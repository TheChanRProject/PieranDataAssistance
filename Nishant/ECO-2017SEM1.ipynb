{
 "cells": [
  {
   "cell_type": "markdown",
   "metadata": {},
   "source": [
    "## Economics Term Paper "
   ]
  },
  {
   "cell_type": "markdown",
   "metadata": {},
   "source": [
    "### Question 1"
   ]
  },
  {
   "cell_type": "markdown",
   "metadata": {},
   "source": [
    "1. What is the scope of Business Economics?\n",
    "\n",
    "2. Define Demand. Explain Individual Demand & Market Demand.\n",
    "\n",
    "3. Explain the use of Marginal Analysis in decision making. "
   ]
  },
  {
   "cell_type": "markdown",
   "metadata": {},
   "source": [
    "### Question 2"
   ]
  },
  {
   "cell_type": "markdown",
   "metadata": {},
   "source": [
    "1. Explain Total Outlay & Geometric Method of Measurement of Elasticity of Demand. \n",
    "2. Explain Significance of Elasticity of Demand.\n",
    "3. Define Price Elasticity of Demand. State its types."
   ]
  },
  {
   "cell_type": "markdown",
   "metadata": {},
   "source": [
    "### Question 3"
   ]
  },
  {
   "cell_type": "markdown",
   "metadata": {},
   "source": [
    "1. Explain the behavior of AFC, AVC, AC, and MC. What is the relationship between AC and MC?\n",
    "2. Explain the Revenue concepts under Perfect Competition?\n",
    "3. Explain the concept of breakeven analysis. "
   ]
  },
  {
   "cell_type": "markdown",
   "metadata": {},
   "source": [
    "### Question 4"
   ]
  },
  {
   "cell_type": "markdown",
   "metadata": {},
   "source": [
    "1. Explain economies and diseconomies of scale.\n",
    "2. What is a monopoly? What are the features of a monopoly? \n",
    "3. Explain short run equilibrium of a firm under perfect competition. "
   ]
  },
  {
   "cell_type": "markdown",
   "metadata": {},
   "source": [
    "### Question 5"
   ]
  },
  {
   "cell_type": "markdown",
   "metadata": {},
   "source": [
    "1. Calculate Price Elasticity of demand, if price falls from Rs. 50 to Rs. 48 & consequently demand increases from 100 to 110 units. \n",
    "\n",
    "2. Find Income Elasticity of Demand if a consumer income rises from Rs. 100 to Rs. 200. The quantity purchased by him increases from 25 units to 30 units. \n",
    "\n",
    "3. The quantity demanded of a commodity increases from 8000 units to 10,000 units due to increase in advertisement expenditure from Rs 6,000 to Rs 12,000 . Find out promotional elasticity of Demand. "
   ]
  },
  {
   "cell_type": "markdown",
   "metadata": {},
   "source": [
    "### Question 5 Part 1 "
   ]
  },
  {
   "cell_type": "markdown",
   "metadata": {},
   "source": [
    "$$ P_{old} = 50 $$ \n",
    "\n",
    "$$ P_{new} = 48 $$ \n",
    "\n",
    "$$ Q_{old} = 100 $$ \n",
    "\n",
    "$$ Q_{new} = 110 $$ \n",
    "\n",
    "$$ E_D = \\frac{\\bigtriangleup \\% Q}{\\bigtriangleup \\% P} $$ \n",
    "\n",
    "$$ \\bigtriangleup P = 48 - 50 = -2 $$ \n",
    "\n",
    "$$ \\bigtriangleup Q = 110 - 100 = 10 $$ \n",
    "\n",
    "$$ \\mu_P = \\frac{48 + 50}{2} = 49 $$ \n",
    "\n",
    "$$ \\mu_Q = \\frac{100 + 110}{2} = 105 $$ \n",
    "\n",
    "$$ E_D = \\frac{\\frac{10}{105} \\times 100}{\\frac{-2}{49} \\times 100} = \\frac{\\frac{10}{105}}{\\frac{-2}{49}} = \\frac{10}{105} \\times \\frac{49}{-2} = \\frac{10 \\times 49}{105 \\times -2} = \\frac{490}{-210} \\times \\frac{\\frac{1}{70}}{\\frac{1}{70}} = \\frac{7}{-3} = -2.333 $$ "
   ]
  },
  {
   "cell_type": "code",
   "execution_count": 2,
   "metadata": {},
   "outputs": [
    {
     "name": "stdout",
     "output_type": "stream",
     "text": [
      "-2.3333333333333335\n"
     ]
    }
   ],
   "source": [
    "def price_elasticity(x):\n",
    "    delta_P = x[1] - x[0] \n",
    "    delta_Q = x[3] - x[2] \n",
    "    mu_P = (x[1] + x[0]) / 2\n",
    "    mu_Q = (x[3] + x[2]) / 2\n",
    "    elasticity_demand = ((delta_Q/mu_Q) * 100)/((delta_P/mu_P) * 100) \n",
    "    return elasticity_demand \n",
    "\n",
    "print(price_elasticity([50,48,100,110]))  "
   ]
  },
  {
   "cell_type": "markdown",
   "metadata": {},
   "source": [
    "### Question 5 Part 2 "
   ]
  },
  {
   "cell_type": "markdown",
   "metadata": {},
   "source": [
    "$$ I_{old} = 100 $$\n",
    "\n",
    "$$ I_{new} = 200 $$\n",
    "\n",
    "$$ Q_{old} = 25 $$\n",
    "\n",
    "$$ Q_{new} = 30 $$ \n",
    "\n",
    "$$ E_I = \\frac{\\% \\bigtriangleup Q}{\\% \\bigtriangleup I} $$  \n",
    "\n",
    "$$ \\bigtriangleup Q = 30 - 25 = 5 $$ \n",
    "\n",
    "$$ \\bigtriangleup I = 200 - 100 = 100 $$ \n",
    "\n",
    "$$ \\mu_Q = \\frac{25 + 30}{2} = 27.5 $$ \n",
    "\n",
    "$$ \\mu_I = \\frac{100 + 200}{2} = 150 $$ \n",
    "\n",
    "$$ E_I = \\frac{\\frac{5}{27.5} * 100}{\\frac{100}{150} * 100} = \\frac{\\frac{5}{27.5}}{\\frac{100}{150}} = \\frac{\\frac{5}{27.5} \\times \\frac{\\frac{1}{5}}{\\frac{1}{5}}}{\\frac{100}{150} \\times \\frac{\\frac{1}{50}}{\\frac{1}{50}}} = \\frac{\\frac{1}{5.5}}{\\frac{2}{3}} = \\frac{1 \\times 3}{5.5 \\times 2} = \\frac{3}{10.10} \\approx 0.297 $$ "
   ]
  },
  {
   "cell_type": "code",
   "execution_count": 5,
   "metadata": {},
   "outputs": [
    {
     "name": "stdout",
     "output_type": "stream",
     "text": [
      "0.27272727272727276\n"
     ]
    }
   ],
   "source": [
    "def income_elasticity(x):\n",
    "    delta_I = x[1] - x[0] \n",
    "    delta_Q = x[3] - x[2] \n",
    "    mu_I = (x[1] + x[0]) / 2\n",
    "    mu_Q = (x[3] + x[2]) / 2\n",
    "    elasticity_demand = ((delta_Q/mu_Q) * 100)/((delta_I/mu_I) * 100) \n",
    "    return elasticity_demand\n",
    "\n",
    "print(income_elasticity([100,200,25,30])) "
   ]
  },
  {
   "cell_type": "code",
   "execution_count": null,
   "metadata": {},
   "outputs": [],
   "source": []
  }
 ],
 "metadata": {
  "kernelspec": {
   "display_name": "Python 3",
   "language": "python",
   "name": "python3"
  },
  "language_info": {
   "codemirror_mode": {
    "name": "ipython",
    "version": 3
   },
   "file_extension": ".py",
   "mimetype": "text/x-python",
   "name": "python",
   "nbconvert_exporter": "python",
   "pygments_lexer": "ipython3",
   "version": "3.6.4"
  }
 },
 "nbformat": 4,
 "nbformat_minor": 2
}
