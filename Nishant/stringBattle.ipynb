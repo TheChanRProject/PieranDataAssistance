{
 "cells": [
  {
   "cell_type": "markdown",
   "metadata": {},
   "source": [
    "## String Battle \n",
    "\n",
    "This notebook covers the following:\n",
    "\n",
    "* A function that takes an input string and outputs a longer string by a given factor\n",
    "* The point of the function is to beat your friends at a long string battle \n",
    "* Nishant likes to say yuuuuuhhhh well I want to start simple with hhhhhs and then move to the uuuuuus then the ys."
   ]
  },
  {
   "cell_type": "code",
   "execution_count": 1,
   "metadata": {},
   "outputs": [
    {
     "name": "stdout",
     "output_type": "stream",
     "text": [
      "Type in your opponent's text: Yuh\n",
      "Yuhuhuhuhuhuhuh\n"
     ]
    }
   ],
   "source": [
    "def stringBattle_1Letter(factor):\n",
    "    if not isinstance(factor, int or float):\n",
    "        raise TypeError\n",
    "    myString = input(\"Type in your opponent's text: \")\n",
    "    if not isinstance(myString, str):\n",
    "        raise TypeError\n",
    "    newLength = len(myString[1:]) + factor\n",
    "    newStr = myString[0] + (newLength * myString[1:])\n",
    "    return newStr\n",
    "\n",
    "print(stringBattle_1Letter(5))\n"
   ]
  },
  {
   "cell_type": "code",
   "execution_count": 2,
   "metadata": {},
   "outputs": [
    {
     "data": {
      "text/plain": [
       "'/Users/rchatter/Desktop/DS/Python/PieranDataAssistance/Nishant'"
      ]
     },
     "execution_count": 2,
     "metadata": {},
     "output_type": "execute_result"
    }
   ],
   "source": [
    "pwd"
   ]
  },
  {
   "cell_type": "markdown",
   "metadata": {},
   "source": [
    "## More Consistent String and Writing to File "
   ]
  },
  {
   "cell_type": "code",
   "execution_count": 3,
   "metadata": {},
   "outputs": [],
   "source": [
    "def stringBattle_NLetters(factor):\n",
    "    if not isinstance(factor, int or float):\n",
    "        raise TypeError\n",
    "    myString = input(\"Type in your opponent's text: \")\n",
    "    if not isinstance(myString, str):\n",
    "        raise TypeError\n",
    "    letterArray = list(myString)\n",
    "    letterHashTable = {i:myString.count(i) for i in letterArray}\n",
    "    newArray = []\n",
    "    for key,val in letterHashTable.items():\n",
    "        newArray.append(key*(val+factor))\n",
    "    newStr = ''.join(newArray)\n",
    "    filename = '/Users/rchatter/Desktop/DS/Python/PieranDataAssistance/Nishant/battle.txt'\n",
    "    file = open(filename, 'w')\n",
    "    file.write(newStr)\n",
    "    file.close()\n",
    "    print(newStr)\n",
    "    return newStr"
   ]
  }
 ],
 "metadata": {
  "kernelspec": {
   "display_name": "Python 3",
   "language": "python",
   "name": "python3"
  },
  "language_info": {
   "codemirror_mode": {
    "name": "ipython",
    "version": 3
   },
   "file_extension": ".py",
   "mimetype": "text/x-python",
   "name": "python",
   "nbconvert_exporter": "python",
   "pygments_lexer": "ipython3",
   "version": "3.6.4"
  }
 },
 "nbformat": 4,
 "nbformat_minor": 2
}
