{
 "cells": [
  {
   "cell_type": "markdown",
   "metadata": {},
   "source": [
    "### Finding the Time Delta in Stock High Price "
   ]
  },
  {
   "cell_type": "code",
   "execution_count": 1,
   "metadata": {},
   "outputs": [],
   "source": [
    "import numpy as np \n",
    "import pandas as pd \n",
    "%matplotlib inline \n",
    "import matplotlib.pyplot as plt \n",
    "\n"
   ]
  },
  {
   "cell_type": "code",
   "execution_count": 2,
   "metadata": {},
   "outputs": [
    {
     "data": {
      "text/html": [
       "<div>\n",
       "<style scoped>\n",
       "    .dataframe tbody tr th:only-of-type {\n",
       "        vertical-align: middle;\n",
       "    }\n",
       "\n",
       "    .dataframe tbody tr th {\n",
       "        vertical-align: top;\n",
       "    }\n",
       "\n",
       "    .dataframe thead th {\n",
       "        text-align: right;\n",
       "    }\n",
       "</style>\n",
       "<table border=\"1\" class=\"dataframe\">\n",
       "  <thead>\n",
       "    <tr style=\"text-align: right;\">\n",
       "      <th></th>\n",
       "      <th>DateTime</th>\n",
       "      <th>ESZ8</th>\n",
       "      <th>Open</th>\n",
       "      <th>High</th>\n",
       "      <th>Low</th>\n",
       "      <th>Last</th>\n",
       "      <th>Volume</th>\n",
       "      <th>OpenInterest</th>\n",
       "      <th>range</th>\n",
       "      <th>Over50</th>\n",
       "    </tr>\n",
       "  </thead>\n",
       "  <tbody>\n",
       "    <tr>\n",
       "      <th>0</th>\n",
       "      <td>Date Time</td>\n",
       "      <td>ESZ8</td>\n",
       "      <td>Open</td>\n",
       "      <td>High</td>\n",
       "      <td>Low</td>\n",
       "      <td>Last</td>\n",
       "      <td>Volume</td>\n",
       "      <td>Open Interest</td>\n",
       "      <td>range</td>\n",
       "      <td>Over_50_points</td>\n",
       "    </tr>\n",
       "    <tr>\n",
       "      <th>1</th>\n",
       "      <td>2013-10-25</td>\n",
       "      <td>ESZ8</td>\n",
       "      <td>1659.75</td>\n",
       "      <td>1667.5</td>\n",
       "      <td>1654.5</td>\n",
       "      <td>1665.75</td>\n",
       "      <td>1253456</td>\n",
       "      <td>2731098</td>\n",
       "      <td>13.0</td>\n",
       "      <td>False</td>\n",
       "    </tr>\n",
       "    <tr>\n",
       "      <th>2</th>\n",
       "      <td>2013-10-28</td>\n",
       "      <td>ESZ8</td>\n",
       "      <td>1665.5</td>\n",
       "      <td>1674.0</td>\n",
       "      <td>1663.25</td>\n",
       "      <td>1670.75</td>\n",
       "      <td>1157924</td>\n",
       "      <td>2736038</td>\n",
       "      <td>10.75</td>\n",
       "      <td>False</td>\n",
       "    </tr>\n",
       "    <tr>\n",
       "      <th>3</th>\n",
       "      <td>2013-10-29</td>\n",
       "      <td>ESZ8</td>\n",
       "      <td>1670.75</td>\n",
       "      <td>1680.5</td>\n",
       "      <td>1666.25</td>\n",
       "      <td>1679.25</td>\n",
       "      <td>1189498</td>\n",
       "      <td>2741642</td>\n",
       "      <td>14.25</td>\n",
       "      <td>False</td>\n",
       "    </tr>\n",
       "    <tr>\n",
       "      <th>4</th>\n",
       "      <td>2013-10-30</td>\n",
       "      <td>ESZ8</td>\n",
       "      <td>1680.0</td>\n",
       "      <td>1685.0</td>\n",
       "      <td>1663.5</td>\n",
       "      <td>1672.25</td>\n",
       "      <td>1778748</td>\n",
       "      <td>2763150</td>\n",
       "      <td>21.5</td>\n",
       "      <td>False</td>\n",
       "    </tr>\n",
       "  </tbody>\n",
       "</table>\n",
       "</div>"
      ],
      "text/plain": [
       "     DateTime  ESZ8     Open    High      Low     Last   Volume  \\\n",
       "0   Date Time  ESZ8     Open    High      Low     Last   Volume   \n",
       "1  2013-10-25  ESZ8  1659.75  1667.5   1654.5  1665.75  1253456   \n",
       "2  2013-10-28  ESZ8   1665.5  1674.0  1663.25  1670.75  1157924   \n",
       "3  2013-10-29  ESZ8  1670.75  1680.5  1666.25  1679.25  1189498   \n",
       "4  2013-10-30  ESZ8   1680.0  1685.0   1663.5  1672.25  1778748   \n",
       "\n",
       "    OpenInterest  range          Over50  \n",
       "0  Open Interest  range  Over_50_points  \n",
       "1        2731098   13.0           False  \n",
       "2        2736038  10.75           False  \n",
       "3        2741642  14.25           False  \n",
       "4        2763150   21.5           False  "
      ]
     },
     "execution_count": 2,
     "metadata": {},
     "output_type": "execute_result"
    }
   ],
   "source": [
    "df = pd.read_csv('../data/EsDayRange.csv', names=['DateTime', 'ESZ8','Open','High','Low','Last',\n",
    "                                                 'Volume','OpenInterest','range','Over50'])\n",
    "df.head()\n"
   ]
  },
  {
   "cell_type": "code",
   "execution_count": 3,
   "metadata": {},
   "outputs": [
    {
     "data": {
      "text/plain": [
       "69    1671.5\n",
       "Name: High, dtype: object"
      ]
     },
     "execution_count": 3,
     "metadata": {},
     "output_type": "execute_result"
    }
   ],
   "source": [
    "df[(df.DateTime == '2014-02-04')].High"
   ]
  },
  {
   "cell_type": "code",
   "execution_count": 10,
   "metadata": {},
   "outputs": [
    {
     "ename": "TypeError",
     "evalue": "'>=' not supported between instances of 'list' and 'float'",
     "output_type": "error",
     "traceback": [
      "\u001b[0;31m---------------------------------------------------------------------------\u001b[0m",
      "\u001b[0;31mTypeError\u001b[0m                                 Traceback (most recent call last)",
      "\u001b[0;32m<ipython-input-10-95d09ba3eb99>\u001b[0m in \u001b[0;36m<module>\u001b[0;34m()\u001b[0m\n\u001b[0;32m----> 1\u001b[0;31m \u001b[0mdf\u001b[0m\u001b[0;34m[\u001b[0m\u001b[0;34m(\u001b[0m\u001b[0mdf\u001b[0m\u001b[0;34m[\u001b[0m\u001b[0;34m'High'\u001b[0m\u001b[0;34m]\u001b[0m\u001b[0;34m.\u001b[0m\u001b[0mtolist\u001b[0m\u001b[0;34m(\u001b[0m\u001b[0;34m)\u001b[0m \u001b[0;34m>=\u001b[0m \u001b[0;36m1671.5\u001b[0m\u001b[0;34m)\u001b[0m\u001b[0;34m]\u001b[0m\u001b[0;34m\u001b[0m\u001b[0m\n\u001b[0m",
      "\u001b[0;31mTypeError\u001b[0m: '>=' not supported between instances of 'list' and 'float'"
     ]
    }
   ],
   "source": [
    "df.High.tolist()  \n"
   ]
  },
  {
   "cell_type": "code",
   "execution_count": null,
   "metadata": {},
   "outputs": [],
   "source": []
  }
 ],
 "metadata": {
  "kernelspec": {
   "display_name": "Python 3",
   "language": "python",
   "name": "python3"
  },
  "language_info": {
   "codemirror_mode": {
    "name": "ipython",
    "version": 3
   },
   "file_extension": ".py",
   "mimetype": "text/x-python",
   "name": "python",
   "nbconvert_exporter": "python",
   "pygments_lexer": "ipython3",
   "version": "3.6.4"
  }
 },
 "nbformat": 4,
 "nbformat_minor": 2
}
