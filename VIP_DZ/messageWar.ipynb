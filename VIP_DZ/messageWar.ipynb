{
 "cells": [
  {
   "cell_type": "markdown",
   "metadata": {},
   "source": [
    "# Message War "
   ]
  },
  {
   "cell_type": "code",
   "execution_count": 1,
   "metadata": {},
   "outputs": [
    {
     "name": "stdout",
     "output_type": "stream",
     "text": [
      "Put in your message here: yeah\n",
      "yyeeaahh\n"
     ]
    }
   ],
   "source": [
    "# Version two merging from two lists\n",
    "\n",
    "message = input(\"Put in your message here: \")\n",
    "message_list = list(message)\n",
    "\n",
    "\n",
    "# Dictionary from list comprehension\n",
    "\n",
    "mDict = {i: message_list.count(i) for i in message_list}\n",
    "\n",
    "keys = list(mDict.keys())\n",
    "values= list(mDict.values())\n",
    "\n",
    "# New Message\n",
    "newMessage = ''.join([(value+1)*key for key,value in zip(keys,values)])\n",
    "print(newMessage)\n"
   ]
  },
  {
   "cell_type": "code",
   "execution_count": 2,
   "metadata": {},
   "outputs": [
    {
     "name": "stdout",
     "output_type": "stream",
     "text": [
      "Put in your message here: yeah\n",
      "yyeeaahh\n"
     ]
    }
   ],
   "source": [
    "from collections import OrderedDict\n",
    "\n",
    "message = input(\"Put in your message here: \")\n",
    "message_list = list(message)\n",
    "\n",
    "# Create an ordered set\n",
    "message_set = OrderedDict.fromkeys(message_list)\n",
    "\n",
    "# Message Dictionary\n",
    "mDict = {}\n",
    "for i in message_set:\n",
    "    mDict[i] = message_list.count(i)\n",
    "\n",
    "\n",
    "\n",
    "\n",
    "newStrList = []\n",
    "for key,val in mDict.items():\n",
    "    newStrList.append(key*(val+1))\n",
    "\n",
    "newMessage = ''.join(newStrList)\n",
    "\n",
    "print(newMessage)\n"
   ]
  },
  {
   "cell_type": "code",
   "execution_count": 3,
   "metadata": {},
   "outputs": [
    {
     "name": "stdout",
     "output_type": "stream",
     "text": [
      "Requirement already satisfied: jiphy in /Users/rchatter/miniconda3/lib/python3.6/site-packages (1.2.2)\n",
      "\u001b[33mYou are using pip version 18.1, however version 19.0.1 is available.\n",
      "You should consider upgrading via the 'pip install --upgrade pip' command.\u001b[0m\n"
     ]
    }
   ],
   "source": [
    "!pip install jiphy"
   ]
  },
  {
   "cell_type": "code",
   "execution_count": null,
   "metadata": {},
   "outputs": [],
   "source": [
    "import jiphy \n",
    "\n",
    "jiphy.to.javascript('') "
   ]
  }
 ],
 "metadata": {
  "kernelspec": {
   "display_name": "Python 3",
   "language": "python",
   "name": "python3"
  },
  "language_info": {
   "codemirror_mode": {
    "name": "ipython",
    "version": 3
   },
   "file_extension": ".py",
   "mimetype": "text/x-python",
   "name": "python",
   "nbconvert_exporter": "python",
   "pygments_lexer": "ipython3",
   "version": "3.6.4"
  },
  "latex_envs": {
   "LaTeX_envs_menu_present": true,
   "autoclose": false,
   "autocomplete": true,
   "bibliofile": "biblio.bib",
   "cite_by": "apalike",
   "current_citInitial": 1,
   "eqLabelWithNumbers": true,
   "eqNumInitial": 1,
   "hotkeys": {
    "equation": "Ctrl-E",
    "itemize": "Ctrl-I"
   },
   "labels_anchors": false,
   "latex_user_defs": false,
   "report_style_numbering": false,
   "user_envs_cfg": false
  },
  "nbTranslate": {
   "displayLangs": [
    "*"
   ],
   "hotkey": "alt-t",
   "langInMainMenu": true,
   "sourceLang": "en",
   "targetLang": "fr",
   "useGoogleTranslate": true
  },
  "toc": {
   "base_numbering": 1,
   "nav_menu": {},
   "number_sections": true,
   "sideBar": true,
   "skip_h1_title": false,
   "title_cell": "Table of Contents",
   "title_sidebar": "Contents",
   "toc_cell": false,
   "toc_position": {},
   "toc_section_display": true,
   "toc_window_display": false
  }
 },
 "nbformat": 4,
 "nbformat_minor": 2
}
