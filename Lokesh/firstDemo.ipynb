{
 "cells": [
  {
   "cell_type": "markdown",
   "metadata": {},
   "source": [
    "## Python Demo by Rishov "
   ]
  },
  {
   "cell_type": "markdown",
   "metadata": {},
   "source": [
    "In this demo, we're going to learn how to work with lists to do things like calculating averages, standard deviations, and doing some mathematics. "
   ]
  },
  {
   "cell_type": "markdown",
   "metadata": {},
   "source": [
    "In order to understand the concept of an average in Python, we first need to understand what a list is and how can we add all the numbers inside of a list. "
   ]
  },
  {
   "cell_type": "code",
   "execution_count": 9,
   "metadata": {
    "scrolled": true
   },
   "outputs": [
    {
     "name": "stdout",
     "output_type": "stream",
     "text": [
      "55\n",
      "10\n"
     ]
    }
   ],
   "source": [
    "# The variable below is a list \n",
    "\n",
    "\n",
    "myList = [1,2,3,4,5,6,7,8,9,10] \n",
    "\n",
    "print(sum(myList)) \n",
    "\n",
    "print(len(myList)) \n",
    "\n",
    "myComp = [i**2 for i in myList]\n",
    "\n"
   ]
  },
  {
   "cell_type": "markdown",
   "metadata": {},
   "source": [
    "#### Formula for Average \n",
    "\n",
    "$$ \\mu = \\frac{\\sum^{i=n}_{i=0}{(x_i)}}{n} $$ "
   ]
  },
  {
   "cell_type": "code",
   "execution_count": 10,
   "metadata": {},
   "outputs": [
    {
     "name": "stdout",
     "output_type": "stream",
     "text": [
      "38.5\n"
     ]
    }
   ],
   "source": [
    "def average(x):\n",
    "    return sum(x) / len(x) \n",
    "\n",
    "print(average(myComp)) "
   ]
  },
  {
   "cell_type": "markdown",
   "metadata": {},
   "source": [
    "### Formula for Standard Deviation "
   ]
  },
  {
   "cell_type": "markdown",
   "metadata": {},
   "source": [
    "Variance Formula: \n",
    "\n",
    "$$ {\\sigma}^2 = \\frac{\\sum^{i=n}_{i=0}{(x_i - \\mu)^2}}{n} $$ \n",
    "\n",
    "\n",
    "Standard Deviation is the square root of the variance. \n",
    "\n",
    "\n",
    "$$ \\sigma = \\sqrt{\\frac{\\sum^{i=n}_{i=0}{(x_i - \\mu)^2}}{n}} $$ \n"
   ]
  },
  {
   "cell_type": "code",
   "execution_count": 11,
   "metadata": {},
   "outputs": [
    {
     "name": "stdout",
     "output_type": "stream",
     "text": [
      "32.41990129534635\n"
     ]
    }
   ],
   "source": [
    "def stdv(x):\n",
    "    avg = average(x) \n",
    "    sqDif = [(i - avg)**2 for i in x] \n",
    "    variance = sum(sqDif) / len(x) \n",
    "    return pow(variance, 0.5) \n",
    "\n",
    "print(stdv(myComp)) \n",
    "    "
   ]
  },
  {
   "cell_type": "code",
   "execution_count": null,
   "metadata": {},
   "outputs": [],
   "source": []
  }
 ],
 "metadata": {
  "kernelspec": {
   "display_name": "Python 3",
   "language": "python",
   "name": "python3"
  },
  "language_info": {
   "codemirror_mode": {
    "name": "ipython",
    "version": 3
   },
   "file_extension": ".py",
   "mimetype": "text/x-python",
   "name": "python",
   "nbconvert_exporter": "python",
   "pygments_lexer": "ipython3",
   "version": "3.6.4"
  }
 },
 "nbformat": 4,
 "nbformat_minor": 2
}
