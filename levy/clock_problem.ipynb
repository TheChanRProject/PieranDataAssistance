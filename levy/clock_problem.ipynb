{
 "cells": [
  {
   "cell_type": "markdown",
   "metadata": {},
   "source": [
    "### Original Problem Statement\n",
    "\n",
    "\n",
    "The hour hand of an analog clock turned $ \\alpha $ degrees since midnight. Determine the angle by which the minute hand turned since the start of the current hour. Input and output in this problem are integers.\n",
    "\n",
    "#### Example Input:\n",
    "\n",
    "``` \n",
    "190\n",
    "```\n",
    "\n",
    "6:20\n",
    "\n",
    "#### Example Output: \n",
    "\n",
    "```\n",
    "120\n",
    "```\n",
    "20 minutes\n",
    "\n",
    "\n"
   ]
  },
  {
   "cell_type": "markdown",
   "metadata": {},
   "source": [
    "My moment of dumbfoundeadness has come to an end for the day and I'm finally back to my original self.\n",
    "\n",
    "So let's deep dive into this problem a little bit. \n",
    "\n",
    "\n",
    "\n"
   ]
  },
  {
   "cell_type": "markdown",
   "metadata": {},
   "source": [
    "Since the hour hand of the clock is moving, let's see if we can understand how many degrees it turns per hour. \n",
    "\n",
    "Since there are 12 hours on the clock and the hour hand needs moves 360 degrees in two 12 hour cycles throughout the day of 24 hours, we can simply say that the degrees moved per hour by the hour hand is:\n",
    "\n",
    "$$ \\frac{\\deg}{hour} = \\frac{360 ^\\circ}{12} = 30 ^\\circ $$  \n",
    "\n",
    "Since the hour hand is moving $ 30 ^\\circ $ per hour, we can now say that our $ \\alpha $ is the input of degrees the hour hand has moved since the start of the day which is midnight and find out information such as how many hours have past since midnight.\n",
    "\n",
    "In our example input of 190, we can do the following:\n",
    "\n",
    "$$ 190 \\space \\% \\space 30 = \\text{remainder} \\space (\\frac{190}{30}) = 10 $$\n",
    "\n",
    "From this we can tell the following information, the hour hand has moved 6 hours past since \n",
    "\n",
    "$$ \\frac{180}{30} = 6 $$ \n",
    "\n",
    "Since we know that the remainder of 10 is 10 degrees that it has moved since the 6th hour, that means it moved $ \\frac{1}{3} $ of the next hour which can be calculated in minutes as follows:\n",
    "\n",
    "$$ \\frac{1}{3} * 60 = 20 $$\n",
    "\n",
    "This results in the following time: \n",
    "\n",
    "$$ 6:20 am "
   ]
  },
  {
   "cell_type": "code",
   "execution_count": null,
   "metadata": {},
   "outputs": [],
   "source": []
  }
 ],
 "metadata": {
  "kernelspec": {
   "display_name": "Python 3",
   "language": "python",
   "name": "python3"
  },
  "language_info": {
   "codemirror_mode": {
    "name": "ipython",
    "version": 3
   },
   "file_extension": ".py",
   "mimetype": "text/x-python",
   "name": "python",
   "nbconvert_exporter": "python",
   "pygments_lexer": "ipython3",
   "version": "3.6.4"
  }
 },
 "nbformat": 4,
 "nbformat_minor": 2
}
