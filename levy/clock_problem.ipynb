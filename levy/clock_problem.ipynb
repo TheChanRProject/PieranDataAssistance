{
 "cells": [
  {
   "cell_type": "markdown",
   "metadata": {},
   "source": [
    "### Original Problem Statement\n",
    "\n",
    "\n",
    "The hour hand of an analog clock turned $ \\alpha $ degrees since midnight. Determine the angle by which the minute hand turned since the start of the current hour. Input and output in this problem are integers.\n",
    "\n",
    "#### Example Input:\n",
    "\n",
    "``` \n",
    "190\n",
    "```\n",
    "\n",
    "6:20\n",
    "\n",
    "#### Example Output: \n",
    "\n",
    "```\n",
    "120\n",
    "```\n",
    "20 minutes\n",
    "\n",
    "\n"
   ]
  },
  {
   "cell_type": "markdown",
   "metadata": {},
   "source": [
    "As a side note, I would like to credit _Kookie from Pieran Data's Discord who took the time to help levy understand the difficult clock question. I also did not understand it at first as I misread what was being asked to begin with. He came up with a solution that works and I simply took an approach that tried to work off of what he did \n",
    "\n",
    "\n",
    "My moment of dumbfoundeadness has come to an end for the day and I'm finally back to my original self.\n",
    "\n",
    "So let's deep dive into this problem a little bit. \n",
    "\n",
    "\n",
    "\n"
   ]
  },
  {
   "cell_type": "markdown",
   "metadata": {},
   "source": [
    "Since the hour hand of the clock is moving, let's see if we can understand how many degrees it turns per hour. \n",
    "\n",
    "Since there are 12 hours on the clock and the hour hand needs moves 360 degrees, we can simply say that the degrees moved per hour by the hour hand is:\n",
    "\n",
    "$$ \\frac{\\deg}{hour} = \\frac{360 ^\\circ}{12} = 30 ^\\circ $$  \n",
    "\n",
    "Since the hour hand is moving $ 30 ^\\circ $ per hour, we can now say that our $ \\alpha $ is the input of degrees the hour hand has moved since the start of the day which is midnight and find out information such as how many hours have past since midnight.\n",
    "\n",
    "In our example input of 190, we can do the following:\n",
    "\n",
    "$$ 190 \\space \\% \\space 30 = \\text{remainder} \\space (\\frac{190}{30}) = 10 $$\n",
    "\n",
    "From this we can tell the following information, the hour hand has moved 6 hours past since \n",
    "\n",
    "$$ \\frac{180}{30} = 6 $$ \n",
    "\n",
    "Since we know that the remainder of 10 is 10 degrees that it has moved since the 6th hour, that means it moved $ \\frac{1}{3} $ of the next hour which can be calculated in minutes as follows:\n",
    "\n",
    "$$ \\frac{1}{3} * 60 = 20 $$\n",
    "\n",
    "This results in the following time: \n",
    "\n",
    "$$ 6 \\text{:} 20 \\space \\text{am} $$ \n",
    "\n",
    "Now that we have gone this far, let's see if we can understand how many degrees the minute hand moves per minute. \n",
    "\n",
    "Since there are 60 minutes in 1 hour and we want to scale from any hour which can happen twice throughout the day, we simply need to do the following expression to get our rate.\n",
    "\n",
    "$$ 2 * \\frac{360^\\circ}{60}  = 12^\\circ $$ \n",
    "\n",
    "Putting this together now, the degrees remaining from the hour hand divided by the $ \\frac{deg}{hour_{elapsed}} = 30^\\circ $ gives us the degrees from the hour for the hour hand so we can simply multiply this value by the rate of degrees the minute hand moves every hour to get the number of degrees the minute hand moved since the current hour. \n",
    "\n",
    "$$ \\nu = 12 * \\alpha \\space \\% \\space 30^\\circ $$ "
   ]
  },
  {
   "cell_type": "code",
   "execution_count": 5,
   "metadata": {},
   "outputs": [
    {
     "name": "stdout",
     "output_type": "stream",
     "text": [
      "Type in a number in degrees between 0 and 720: 190\n",
      "120\n"
     ]
    }
   ],
   "source": [
    "# In Code, the following expression can be seen as follows\n",
    "alpha = int(input(\"Type in a number in degrees between 0 and 720: \"))\n",
    "v = 12 * (alpha % 30)\n",
    "print(v) "
   ]
  },
  {
   "cell_type": "code",
   "execution_count": 7,
   "metadata": {},
   "outputs": [],
   "source": [
    "def minute_hand_degs_past_hour(alpha):\n",
    "    return 12 * (alpha % 30) \n",
    "\n"
   ]
  }
 ],
 "metadata": {
  "kernelspec": {
   "display_name": "Python 3",
   "language": "python",
   "name": "python3"
  },
  "language_info": {
   "codemirror_mode": {
    "name": "ipython",
    "version": 3
   },
   "file_extension": ".py",
   "mimetype": "text/x-python",
   "name": "python",
   "nbconvert_exporter": "python",
   "pygments_lexer": "ipython3",
   "version": "3.6.4"
  }
 },
 "nbformat": 4,
 "nbformat_minor": 2
}
