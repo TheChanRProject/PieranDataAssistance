{
 "cells": [
  {
   "cell_type": "markdown",
   "metadata": {},
   "source": [
    "# Combinations "
   ]
  },
  {
   "cell_type": "markdown",
   "metadata": {},
   "source": [
    "$$ _nC_r = \\frac{n!}{r!(n-r)!} $$"
   ]
  },
  {
   "cell_type": "markdown",
   "metadata": {},
   "source": [
    "In our problem of n $ \\rightarrow $ infinite number of points:\n",
    "\n",
    "n represents the number of points \n",
    "\n",
    "Since the euclidean distance requires two points in order to calculate a distance, we need to find all the possible combinations that the points can be expressed as a unique set of two points. \n",
    "\n",
    "Imagine we have the following: \n",
    "\n",
    "$$ [(x_1, y_1), (x_2, y_2), (x_3, y_3)] $$ \n",
    "\n",
    "We need to find out the number of combinations possible from the above list of points as pairs of points. \n",
    "\n",
    "To do this:\n",
    "\n",
    "$$ _3C_2 = \\frac{3!}{2!(3-2)!} = \\frac{6}{2} = 3 $$ \n",
    "\n",
    "There are three possible ways to arrange the 3 points as unique pairs.  "
   ]
  },
  {
   "cell_type": "code",
   "execution_count": null,
   "metadata": {},
   "outputs": [],
   "source": []
  }
 ],
 "metadata": {
  "kernelspec": {
   "display_name": "Python 3",
   "language": "python",
   "name": "python3"
  },
  "language_info": {
   "codemirror_mode": {
    "name": "ipython",
    "version": 3
   },
   "file_extension": ".py",
   "mimetype": "text/x-python",
   "name": "python",
   "nbconvert_exporter": "python",
   "pygments_lexer": "ipython3",
   "version": "3.6.8"
  },
  "nbTranslate": {
   "displayLangs": [
    "*"
   ],
   "hotkey": "alt-t",
   "langInMainMenu": true,
   "sourceLang": "en",
   "targetLang": "fr",
   "useGoogleTranslate": true
  }
 },
 "nbformat": 4,
 "nbformat_minor": 2
}
