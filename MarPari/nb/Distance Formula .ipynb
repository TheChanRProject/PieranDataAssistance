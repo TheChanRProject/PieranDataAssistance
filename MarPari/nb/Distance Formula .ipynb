{
 "cells": [
  {
   "cell_type": "markdown",
   "metadata": {},
   "source": [
    "# Distance Formula "
   ]
  },
  {
   "cell_type": "markdown",
   "metadata": {},
   "source": [
    "$$ D = \\sqrt{(x_2 - x_1)^2 + (y_2 - y_1)^2} $$ "
   ]
  },
  {
   "cell_type": "markdown",
   "metadata": {},
   "source": [
    "To set this up between two points in Python, we can do the following:"
   ]
  },
  {
   "cell_type": "code",
   "execution_count": 1,
   "metadata": {
    "ExecuteTime": {
     "end_time": "2019-05-19T04:00:35.966872Z",
     "start_time": "2019-05-19T04:00:35.951934Z"
    }
   },
   "outputs": [
    {
     "name": "stdout",
     "output_type": "stream",
     "text": [
      "8.602325267042627\n"
     ]
    }
   ],
   "source": [
    "import math \n",
    "\n",
    "# We will set up coordinates as tuple objects \n",
    "\n",
    "point_1 = (5, 8) \n",
    "\n",
    "point_2 = (10, 15) \n",
    "\n",
    "distance = math.sqrt((point_2[0] - point_1[0])**2 + (point_2[1] - point_1[1])**2) \n",
    "\n",
    "print(distance) "
   ]
  },
  {
   "cell_type": "markdown",
   "metadata": {},
   "source": [
    "If we want to make this more functional, we can set up a Python function for calculating the distance between two points: "
   ]
  },
  {
   "cell_type": "code",
   "execution_count": 2,
   "metadata": {
    "ExecuteTime": {
     "end_time": "2019-05-19T04:02:22.702604Z",
     "start_time": "2019-05-19T04:02:22.696287Z"
    }
   },
   "outputs": [],
   "source": [
    "def distance(point_1: tuple, point_2: tuple) -> float:\n",
    "    return math.sqrt((point_2[0] - point_1[0])**2 + (point_2[1] - point_1[1])**2)  "
   ]
  },
  {
   "cell_type": "code",
   "execution_count": 3,
   "metadata": {
    "ExecuteTime": {
     "end_time": "2019-05-19T04:02:53.554425Z",
     "start_time": "2019-05-19T04:02:53.545612Z"
    }
   },
   "outputs": [
    {
     "name": "stdout",
     "output_type": "stream",
     "text": [
      "8.602325267042627\n"
     ]
    }
   ],
   "source": [
    "print(distance((5,8), (10,15))) "
   ]
  },
  {
   "cell_type": "markdown",
   "metadata": {},
   "source": [
    "# Distance Formula with User Input "
   ]
  },
  {
   "cell_type": "code",
   "execution_count": 26,
   "metadata": {
    "ExecuteTime": {
     "end_time": "2019-05-19T04:59:22.670801Z",
     "start_time": "2019-05-19T04:59:19.533365Z"
    }
   },
   "outputs": [
    {
     "name": "stdout",
     "output_type": "stream",
     "text": [
      "Put in 3 x values separated by a space: 10 20 30\n",
      "Put in 3 y values separated by a space: 40 50 60\n",
      "[14.142135623730951, 14.142135623730951, 28.284271247461902]\n"
     ]
    }
   ],
   "source": [
    "def point_input(): \n",
    "    x = [float(i) for i in input(\"Put in 3 x values separated by a space: \").split(\" \")]\n",
    "    y = [float(i) for i in input(\"Put in 3 y values separated by a space: \").split(\" \")]\n",
    "    points = list(zip(x,y))\n",
    "    return [distance(points[0], points[1]), distance(points[1], points[2]), distance(points[0], points[2])]\n",
    "\n",
    "print(point_input()) "
   ]
  },
  {
   "cell_type": "code",
   "execution_count": 27,
   "metadata": {
    "ExecuteTime": {
     "end_time": "2019-05-19T05:03:46.374862Z",
     "start_time": "2019-05-19T05:03:33.591301Z"
    }
   },
   "outputs": [
    {
     "name": "stdout",
     "output_type": "stream",
     "text": [
      "Put in digits separated by a comma: 10,20,30,40,50 \n",
      "[10, 20, 30, 40, 50]\n"
     ]
    }
   ],
   "source": [
    "nums =  [int(i) for i in input(\"Put in digits separated by a comma: \").split(\",\")] \n",
    "print(nums)"
   ]
  },
  {
   "cell_type": "code",
   "execution_count": null,
   "metadata": {},
   "outputs": [],
   "source": []
  }
 ],
 "metadata": {
  "kernelspec": {
   "display_name": "Python 3",
   "language": "python",
   "name": "python3"
  },
  "language_info": {
   "codemirror_mode": {
    "name": "ipython",
    "version": 3
   },
   "file_extension": ".py",
   "mimetype": "text/x-python",
   "name": "python",
   "nbconvert_exporter": "python",
   "pygments_lexer": "ipython3",
   "version": "3.6.8"
  },
  "nbTranslate": {
   "displayLangs": [
    "*"
   ],
   "hotkey": "alt-t",
   "langInMainMenu": true,
   "sourceLang": "en",
   "targetLang": "fr",
   "useGoogleTranslate": true
  }
 },
 "nbformat": 4,
 "nbformat_minor": 2
}
