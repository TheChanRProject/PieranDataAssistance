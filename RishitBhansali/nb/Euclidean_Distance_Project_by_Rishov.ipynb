{
 "cells": [
  {
   "cell_type": "markdown",
   "metadata": {},
   "source": [
    "####Euclidean Distance Project by Rishov\n"
   ]
  },
  {
   "cell_type": "code",
   "execution_count": null,
   "metadata": {},
   "outputs": [],
   "source": [
    "x2 = int(input('Enter x2 =>'))\n",
    "x1 = int(input('Enter x1 =>'))\n",
    "y2 = int(input('Enter y2 =>'))\n",
    "y1 = int(input('Enter y1 =>'))\n",
    "d = ((x2 - x1)**2 + (y2 - y1)**2)**0.5 \n",
    "print(f'The Distance is => {d}')"
   ]
  },
  {
   "cell_type": "markdown",
   "metadata": {},
   "source": [
    "Method 2\n"
   ]
  },
  {
   "cell_type": "code",
   "execution_count": null,
   "metadata": {},
   "outputs": [],
   "source": [
    "import math\n",
    "# Distance Function\n",
    "def distance(point_1: tuple, point_2: tuple) -> float:\n",
    "    return math.sqrt((point_2[0] - point_1[0])**2 + (point_2[1] - point_1[1])**2)\n",
    "print(distance((3,43),(23,56)))\n"
   ]
  },
  {
   "cell_type": "code",
   "execution_count": null,
   "metadata": {},
   "outputs": [],
   "source": []
  },
  {
   "cell_type": "markdown",
   "metadata": {},
   "source": [
    "###Any Point Euclidean Distance Project by Rishov"
   ]
  },
  {
   "cell_type": "code",
   "execution_count": 23,
   "metadata": {},
   "outputs": [
    {
     "name": "stdout",
     "output_type": "stream",
     "text": [
      "Hello sir or madam, can you give me x values separated by a space: 2 3 4\n",
      "Hello sir or madam, can you give me y values separated by a space: 5 6 7\n",
      "The combination formula is right!\n"
     ]
    },
    {
     "data": {
      "text/plain": [
       "[1.4142135623730951, 2.8284271247461903, 1.4142135623730951]"
      ]
     },
     "execution_count": 23,
     "metadata": {},
     "output_type": "execute_result"
    }
   ],
   "source": [
    "from math import sqrt, factorial \n",
    "from itertools import combinations \n",
    "\n",
    "# Combination Calculation : See PDF \n",
    "def nCr(n, r):\n",
    "    return (factorial(n) / (factorial(r)*factorial(n-r))) \n",
    "\n",
    "# Distance Function\n",
    "def distance(point_1: tuple, point_2: tuple) -> float:\n",
    "    return sqrt((point_2[0] - point_1[0])**2 + (point_2[1] - point_1[1])**2)\n",
    "\n",
    "x = [float(i) for i in input(\"Hello sir or madam, can you give me x values separated by a space: \") .split(\" \")] \n",
    "y = [float(i) for i in input(\"Hello sir or madam, can you give me y values separated by a space: \") .split(\" \")] \n",
    "points = list(zip(x,y)) \n",
    "combos = list(combinations(points, 2)) \n",
    "distances = []\n",
    "for i in combos:\n",
    "    distances.append(distance(i[0],i[1])) \n",
    "# Check to make sure there are 45 distances taken \n",
    "if len(distances) == nCr(3,2):\n",
    "    print(\"The combination formula is right!\")\n",
    "else:\n",
    "    print(\"Check your code again\") \n",
    "return distances \n"
   ]
  },
  {
   "cell_type": "code",
   "execution_count": null,
   "metadata": {},
   "outputs": [],
   "source": [
    "point_1: tuple, point_2: tuple) -> float\n"
   ]
  },
  {
   "cell_type": "code",
   "execution_count": null,
   "metadata": {},
   "outputs": [],
   "source": []
  },
  {
   "cell_type": "code",
   "execution_count": null,
   "metadata": {},
   "outputs": [],
   "source": []
  },
  {
   "cell_type": "code",
   "execution_count": null,
   "metadata": {},
   "outputs": [],
   "source": []
  },
  {
   "cell_type": "code",
   "execution_count": null,
   "metadata": {},
   "outputs": [],
   "source": []
  }
 ],
 "metadata": {
  "kernelspec": {
   "display_name": "Python 3",
   "language": "python",
   "name": "python3"
  },
  "language_info": {
   "codemirror_mode": {
    "name": "ipython",
    "version": 3
   },
   "file_extension": ".py",
   "mimetype": "text/x-python",
   "name": "python",
   "nbconvert_exporter": "python",
   "pygments_lexer": "ipython3",
   "version": "3.7.1"
  }
 },
 "nbformat": 4,
 "nbformat_minor": 2
}
