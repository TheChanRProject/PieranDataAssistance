{
 "cells": [
  {
   "cell_type": "code",
   "execution_count": 1,
   "metadata": {},
   "outputs": [],
   "source": [
    "import sys\n",
    "import matplotlib\n",
    "import ipy_lib"
   ]
  },
  {
   "cell_type": "markdown",
   "metadata": {},
   "source": [
    "### Example Usage  "
   ]
  },
  {
   "cell_type": "code",
   "execution_count": 2,
   "metadata": {},
   "outputs": [
    {
     "name": "stdout",
     "output_type": "stream",
     "text": [
      "16.97\n"
     ]
    }
   ],
   "source": [
    "ui = ipy_lib.StockMarketUserInterface(enable_cache=True)\n",
    "\n",
    "stock_quotes = ui.get_stock_quotes('RDSMY', '2017-03-01', '2017-03-31')\n",
    "last_stock_quote = stock_quotes[0]\n",
    "last_adjusted_closing_price = float(last_stock_quote['Adj_Close'])\n",
    "\n",
    "print last_adjusted_closing_price"
   ]
  },
  {
   "cell_type": "markdown",
   "metadata": {},
   "source": [
    "### The Program"
   ]
  },
  {
   "cell_type": "code",
   "execution_count": 5,
   "metadata": {},
   "outputs": [
    {
     "name": "stdout",
     "output_type": "stream",
     "text": [
      "151.53\n"
     ]
    }
   ],
   "source": [
    "def get_prices(x):\n",
    "    stock_list = x.split(' ')\n",
    "    startDate = '2017-05-01'\n",
    "    endDate = '2017-06-01'\n",
    "    for stock in stock_list:\n",
    "        quotes = ui.get_stock_quotes(stock, startDate, endDate)\n",
    "        last_quote = quotes[0]\n",
    "        last_adjusted_price = float(last_quote['Adj_Close'])\n",
    "    return last_adjusted_price \n",
    "print(get_prices('MSFT AAPL IBM GE FB'))"
   ]
  },
  {
   "cell_type": "code",
   "execution_count": null,
   "metadata": {},
   "outputs": [],
   "source": []
  }
 ],
 "metadata": {
  "kernelspec": {
   "display_name": "Python 2",
   "language": "python",
   "name": "python2"
  },
  "language_info": {
   "codemirror_mode": {
    "name": "ipython",
    "version": 2
   },
   "file_extension": ".py",
   "mimetype": "text/x-python",
   "name": "python",
   "nbconvert_exporter": "python",
   "pygments_lexer": "ipython2",
   "version": "2.7.14"
  }
 },
 "nbformat": 4,
 "nbformat_minor": 2
}
