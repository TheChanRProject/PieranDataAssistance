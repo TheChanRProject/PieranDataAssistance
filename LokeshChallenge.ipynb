{
 "cells": [
  {
   "cell_type": "markdown",
   "metadata": {},
   "source": [
    "### Question 1 "
   ]
  },
  {
   "cell_type": "markdown",
   "metadata": {},
   "source": [
    "Write a function that can tell you the average and standard deviation of an unlimited number of arguments.  "
   ]
  },
  {
   "cell_type": "code",
   "execution_count": 6,
   "metadata": {},
   "outputs": [
    {
     "name": "stdout",
     "output_type": "stream",
     "text": [
      "The standard deviation is 1.4142135623730951 and the average is 3.0\n"
     ]
    }
   ],
   "source": [
    "import math\n",
    "\n",
    "def stats(*args):\n",
    "    average =  sum(args) / len(args)\n",
    "    sqArray = [pow(i - average, 2) for i in args]\n",
    "    stdv = math.sqrt(sum(sqArray)/len(args))\n",
    "    return f'The standard deviation is {stdv} and the average is {average}'\n",
    "\n",
    "print(stats(1,2,3,4,5))\n",
    "    "
   ]
  },
  {
   "cell_type": "markdown",
   "metadata": {},
   "source": [
    "### Question 2"
   ]
  },
  {
   "cell_type": "markdown",
   "metadata": {},
   "source": [
    "Create a list comprehension that can display a dictionary where the keys are the words in any sentence and the values are the number of the times the word appears in the sentence (word frequency). \n"
   ]
  },
  {
   "cell_type": "code",
   "execution_count": 10,
   "metadata": {},
   "outputs": [
    {
     "name": "stdout",
     "output_type": "stream",
     "text": [
      "Please enter a sentence: this is just just a sentence\n",
      "{'this': 1, 'is': 2, 'just': 2, 'a': 1, 'sentence': 1}\n"
     ]
    }
   ],
   "source": [
    "mySentence = input(\"Please enter a sentence: \")\n",
    "\n",
    "wordFrequency = {i:mySentence.count(i) for i in mySentence.replace('.', '').replace(';', '').replace(':','').replace(',','').split(' ') }\n",
    "print(wordFrequency) "
   ]
  },
  {
   "cell_type": "markdown",
   "metadata": {},
   "source": [
    "### Question 3 "
   ]
  },
  {
   "cell_type": "markdown",
   "metadata": {},
   "source": []
  }
 ],
 "metadata": {
  "kernelspec": {
   "display_name": "Python 3",
   "language": "python",
   "name": "python3"
  },
  "language_info": {
   "codemirror_mode": {
    "name": "ipython",
    "version": 3
   },
   "file_extension": ".py",
   "mimetype": "text/x-python",
   "name": "python",
   "nbconvert_exporter": "python",
   "pygments_lexer": "ipython3",
   "version": "3.6.4"
  }
 },
 "nbformat": 4,
 "nbformat_minor": 2
}
