{
 "cells": [
  {
   "cell_type": "markdown",
   "metadata": {},
   "source": [
    "### Question 1 "
   ]
  },
  {
   "cell_type": "markdown",
   "metadata": {},
   "source": [
    "Write a function that can tell you the average and standard deviation of an unlimited number of arguments.  "
   ]
  },
  {
   "cell_type": "code",
   "execution_count": 6,
   "metadata": {},
   "outputs": [
    {
     "name": "stdout",
     "output_type": "stream",
     "text": [
      "The standard deviation is 1.4142135623730951 and the average is 3.0\n"
     ]
    }
   ],
   "source": [
    "import math\n",
    "\n",
    "def stats(*args):\n",
    "    average =  sum(args) / len(args)\n",
    "    sqArray = [pow(i - average, 2) for i in args]\n",
    "    stdv = math.sqrt(sum(sqArray)/len(args))\n",
    "    return f'The standard deviation is {stdv} and the average is {average}'\n",
    "\n",
    "print(stats(1,2,3,4,5))\n",
    "    "
   ]
  },
  {
   "cell_type": "markdown",
   "metadata": {},
   "source": [
    "### Question 2"
   ]
  },
  {
   "cell_type": "markdown",
   "metadata": {},
   "source": [
    "Create a list comprehension that can display a dictionary where the keys are the words in any sentence and the values are the number of the times the word appears in the sentence (word frequency). \n"
   ]
  },
  {
   "cell_type": "code",
   "execution_count": 10,
   "metadata": {},
   "outputs": [
    {
     "name": "stdout",
     "output_type": "stream",
     "text": [
      "Please enter a sentence: this is just just a sentence\n",
      "{'this': 1, 'is': 2, 'just': 2, 'a': 1, 'sentence': 1}\n"
     ]
    }
   ],
   "source": [
    "mySentence = input(\"Please enter a sentence: \")\n",
    "\n",
    "wordFrequency = {i:mySentence.count(i) for i in mySentence.replace('.', '').replace(';', '').replace(':','').replace(',','').split(' ') }\n",
    "print(wordFrequency) "
   ]
  },
  {
   "cell_type": "markdown",
   "metadata": {},
   "source": [
    "### Question 3 "
   ]
  },
  {
   "cell_type": "markdown",
   "metadata": {},
   "source": [
    "Solve Fizz Bizz using lambda expressions. "
   ]
  },
  {
   "cell_type": "code",
   "execution_count": 11,
   "metadata": {},
   "outputs": [
    {
     "name": "stdout",
     "output_type": "stream",
     "text": [
      "FizzBizz\n",
      "1\n",
      "2\n",
      "Fizz\n",
      "4\n",
      "Bizz\n",
      "Fizz\n",
      "7\n",
      "8\n",
      "Fizz\n",
      "Bizz\n",
      "11\n",
      "Fizz\n",
      "13\n",
      "14\n",
      "FizzBizz\n",
      "16\n",
      "17\n",
      "Fizz\n",
      "19\n",
      "Bizz\n",
      "Fizz\n",
      "22\n",
      "23\n",
      "Fizz\n",
      "Bizz\n",
      "26\n",
      "Fizz\n",
      "28\n",
      "29\n",
      "FizzBizz\n",
      "31\n",
      "32\n",
      "Fizz\n",
      "34\n",
      "Bizz\n",
      "Fizz\n",
      "37\n",
      "38\n",
      "Fizz\n",
      "Bizz\n",
      "41\n",
      "Fizz\n",
      "43\n",
      "44\n",
      "FizzBizz\n",
      "46\n",
      "47\n",
      "Fizz\n",
      "49\n",
      "Bizz\n",
      "Fizz\n",
      "52\n",
      "53\n",
      "Fizz\n",
      "Bizz\n",
      "56\n",
      "Fizz\n",
      "58\n",
      "59\n",
      "FizzBizz\n",
      "61\n",
      "62\n",
      "Fizz\n",
      "64\n",
      "Bizz\n",
      "Fizz\n",
      "67\n",
      "68\n",
      "Fizz\n",
      "Bizz\n",
      "71\n",
      "Fizz\n",
      "73\n",
      "74\n",
      "FizzBizz\n",
      "76\n",
      "77\n",
      "Fizz\n",
      "79\n",
      "Bizz\n",
      "Fizz\n",
      "82\n",
      "83\n",
      "Fizz\n",
      "Bizz\n",
      "86\n",
      "Fizz\n",
      "88\n",
      "89\n",
      "FizzBizz\n",
      "91\n",
      "92\n",
      "Fizz\n",
      "94\n",
      "Bizz\n",
      "Fizz\n",
      "97\n",
      "98\n",
      "Fizz\n",
      "Bizz\n"
     ]
    }
   ],
   "source": [
    "for i in map(lambda x: 'FizzBizz' if x%3 == 0 and x%5 == 0 else 'Fizz' if x%3 == 0 else 'Bizz' if \n",
    "            x%5 == 0 else x, range(101)): print(i) "
   ]
  },
  {
   "cell_type": "code",
   "execution_count": null,
   "metadata": {},
   "outputs": [],
   "source": []
  }
 ],
 "metadata": {
  "kernelspec": {
   "display_name": "Python 3",
   "language": "python",
   "name": "python3"
  },
  "language_info": {
   "codemirror_mode": {
    "name": "ipython",
    "version": 3
   },
   "file_extension": ".py",
   "mimetype": "text/x-python",
   "name": "python",
   "nbconvert_exporter": "python",
   "pygments_lexer": "ipython3",
   "version": "3.6.4"
  }
 },
 "nbformat": 4,
 "nbformat_minor": 2
}
