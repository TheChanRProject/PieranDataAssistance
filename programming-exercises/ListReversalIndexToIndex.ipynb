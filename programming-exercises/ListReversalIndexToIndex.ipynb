{
 "cells": [
  {
   "cell_type": "code",
   "execution_count": 4,
   "metadata": {},
   "outputs": [
    {
     "name": "stdout",
     "output_type": "stream",
     "text": [
      "[18, 40]\n",
      "[2, 4]\n",
      "[18, 40, 2, 4]\n"
     ]
    }
   ],
   "source": [
    "myList = [2,4,18,40]\n",
    "\n",
    "print(myList[2:])\n",
    "print(myList[:2])\n",
    "\n",
    "reversedList = myList[2:] + myList[:2]\n",
    "print(reversedList)"
   ]
  },
  {
   "cell_type": "code",
   "execution_count": 10,
   "metadata": {},
   "outputs": [
    {
     "name": "stdout",
     "output_type": "stream",
     "text": [
      "[6, 7, 8, 9, 10, 1, 2, 3, 4, 5]\n"
     ]
    }
   ],
   "source": [
    "# Slightly more challenging problem \n",
    "\n",
    "def customReverse(x):\n",
    "    if len(x) % 2 == 0:\n",
    "        y = int(len(x) / 2)\n",
    "        return x[y:] + x[:y] \n",
    "\n",
    "print(customReverse([1,2,3,4,5,6,7,8,9,10]))\n"
   ]
  },
  {
   "cell_type": "code",
   "execution_count": null,
   "metadata": {},
   "outputs": [],
   "source": []
  }
 ],
 "metadata": {
  "kernelspec": {
   "display_name": "Python 3",
   "language": "python",
   "name": "python3"
  },
  "language_info": {
   "codemirror_mode": {
    "name": "ipython",
    "version": 3
   },
   "file_extension": ".py",
   "mimetype": "text/x-python",
   "name": "python",
   "nbconvert_exporter": "python",
   "pygments_lexer": "ipython3",
   "version": "3.6.4"
  }
 },
 "nbformat": 4,
 "nbformat_minor": 2
}
