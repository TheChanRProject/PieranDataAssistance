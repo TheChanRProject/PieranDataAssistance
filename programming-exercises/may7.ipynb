{
 "cells": [
  {
   "cell_type": "code",
   "execution_count": 1,
   "metadata": {},
   "outputs": [
    {
     "name": "stdout",
     "output_type": "stream",
     "text": [
      "Wrecker is cool!\n"
     ]
    }
   ],
   "source": [
    "def Wrecker():\n",
    "    print(\"Wrecker is cool!\")\n",
    "Wrecker()"
   ]
  },
  {
   "cell_type": "code",
   "execution_count": 3,
   "metadata": {},
   "outputs": [
    {
     "name": "stdout",
     "output_type": "stream",
     "text": [
      "[1, 2]\n"
     ]
    }
   ],
   "source": [
    "a = [(1, u'abc'), (2, u'def')]\n",
    "print([i[0] for i in a])"
   ]
  },
  {
   "cell_type": "code",
   "execution_count": 4,
   "metadata": {},
   "outputs": [
    {
     "name": "stdout",
     "output_type": "stream",
     "text": [
      "True\n"
     ]
    }
   ],
   "source": [
    "def lot_filter(l):\n",
    "    s=set(l)\n",
    "    lot_ids_list =[]\n",
    "    for i in s:\n",
    "        lot_ids_list.append(i[0])\n",
    "    if len(lot_ids_list) == len(set(lot_ids_list)):\n",
    "        return True\n",
    "    else:\n",
    "        return False\n",
    "print(lot_filter([(101,2),(103,4),(103,4)]))"
   ]
  },
  {
   "cell_type": "code",
   "execution_count": null,
   "metadata": {},
   "outputs": [],
   "source": []
  }
 ],
 "metadata": {
  "kernelspec": {
   "display_name": "Python 3",
   "language": "python",
   "name": "python3"
  },
  "language_info": {
   "codemirror_mode": {
    "name": "ipython",
    "version": 3
   },
   "file_extension": ".py",
   "mimetype": "text/x-python",
   "name": "python",
   "nbconvert_exporter": "python",
   "pygments_lexer": "ipython3",
   "version": "3.6.4"
  }
 },
 "nbformat": 4,
 "nbformat_minor": 2
}
