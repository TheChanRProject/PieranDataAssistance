{
 "cells": [
  {
   "cell_type": "code",
   "execution_count": 3,
   "metadata": {},
   "outputs": [
    {
     "data": {
      "text/plain": [
       "4"
      ]
     },
     "execution_count": 3,
     "metadata": {},
     "output_type": "execute_result"
    }
   ],
   "source": [
    "2 + 2 "
   ]
  },
  {
   "cell_type": "markdown",
   "metadata": {},
   "source": [
    "### Discord Shows 1 + 1 as a String "
   ]
  },
  {
   "cell_type": "code",
   "execution_count": 7,
   "metadata": {},
   "outputs": [],
   "source": [
    "sumString = '1 + 1'"
   ]
  },
  {
   "cell_type": "code",
   "execution_count": 8,
   "metadata": {},
   "outputs": [
    {
     "name": "stdout",
     "output_type": "stream",
     "text": [
      "My name is Rishov\n"
     ]
    }
   ],
   "source": [
    "your_name = 'Rishov'\n",
    "\n",
    "print('My name is ' + your_name)  "
   ]
  },
  {
   "cell_type": "code",
   "execution_count": 9,
   "metadata": {},
   "outputs": [
    {
     "name": "stdout",
     "output_type": "stream",
     "text": [
      "My number is 12\n"
     ]
    }
   ],
   "source": [
    "my_number = 12\n",
    "\n",
    "print(f\"My number is {my_number}\" ) "
   ]
  },
  {
   "cell_type": "code",
   "execution_count": 10,
   "metadata": {},
   "outputs": [
    {
     "name": "stdout",
     "output_type": "stream",
     "text": [
      "It is the 54th anniversary since Pitzer College's founding year and I am a 4th year student in 2018.  \n"
     ]
    }
   ],
   "source": [
    "school_year = 4 \n",
    "anniversary = 54\n",
    "current_year = 2018\n",
    "\n",
    "print(f\"It is the {anniversary}th anniversary since Pitzer College's founding year and I am a {school_year}th year student in {current_year}.  \")"
   ]
  },
  {
   "cell_type": "code",
   "execution_count": 12,
   "metadata": {},
   "outputs": [
    {
     "name": "stdout",
     "output_type": "stream",
     "text": [
      "I need to get 4 apples, 5 packs of ramen, 2 boxes of cereal, and 3 gallons of milk.\n"
     ]
    }
   ],
   "source": [
    "apple_n = 4\n",
    "ramen_n = 5\n",
    "cereal_n = 2\n",
    "milk_n = 3\n",
    "\n",
    "print(f\"I need to get {apple_n} apples, {ramen_n} packs of ramen, {cereal_n} boxes of cereal, and {milk_n} gallons of milk.\")"
   ]
  },
  {
   "cell_type": "code",
   "execution_count": 13,
   "metadata": {},
   "outputs": [
    {
     "name": "stdout",
     "output_type": "stream",
     "text": [
      "pizz\n"
     ]
    }
   ],
   "source": [
    "pizza = 'pizza'\n",
    "print(pizza[:-1]) "
   ]
  },
  {
   "cell_type": "code",
   "execution_count": 31,
   "metadata": {},
   "outputs": [
    {
     "data": {
      "text/plain": [
       "2"
      ]
     },
     "execution_count": 31,
     "metadata": {},
     "output_type": "execute_result"
    }
   ],
   "source": [
    "int('2') "
   ]
  },
  {
   "cell_type": "code",
   "execution_count": 32,
   "metadata": {},
   "outputs": [
    {
     "name": "stdout",
     "output_type": "stream",
     "text": [
      "24\n"
     ]
    }
   ],
   "source": [
    "numString = '12345'\n",
    "\n",
    "print(int(numString[0] ) + int(numString[1:3])) "
   ]
  },
  {
   "cell_type": "markdown",
   "metadata": {},
   "source": [
    "### The Breakdown\n",
    "\n",
    "#### In the above, example, let's actually see what's going on. \n",
    "\n",
    "We first are getting the first number from the string since we are indexing it at the 0 place. \n",
    "\n",
    "We can see the corresponding positions in the below matrix where the second row is the position of the numbers in the string.\n",
    "\n",
    "$$ \n",
    "    \\left[ {\\begin{array}{ccccc}\n",
    "    '1' & '2' & '3' & '4' & '5' \\\\\n",
    "    0 & 1 & 2 & 3 & 4 \\\\\n",
    "    \\end{array}} \\right]\n",
    "$$ \n",
    "\n",
    "Therefore, the 0 position corresponds to the first string value '1' \n",
    "\n",
    "``` numString[0] = '1' ```\n",
    "\n",
    "Now what happens is we use the ` int() `  function to transform the string '1' to the integer 1.\n",
    "\n",
    "$$ int('1') \\rightarrow 1 $$ \n",
    "\n",
    "Let's now look at the slice from the range 1:3. \n",
    "\n",
    "From the matrix above, we can see that the 1st index is the string '2', the 2nd index is '3'. We will actually not include the 3rd index because the slice outputs the string up to the number on the right side of the colon - 1. If we want to get a mathematical intuition of that, see below:\n",
    "\n",
    "$$ string[m:n] \\rightarrow string[m] + \\space ... \\space + string[n-1] $$  \n",
    "\n",
    "$$ numString[1:3] \\rightarrow numString[1] + numString[2] $$ \n",
    "\n",
    "Now that we understand this, the resulting string is '23' . \n",
    "\n",
    "Now we apply the ` int() ` function to '23' :\n",
    "\n",
    "$$ int('23') \\rightarrow 23 $$ \n",
    "\n",
    "Finally, we print the sum of 1 and 23.\n",
    "\n",
    "$$ 23 + 1 = 24 $$ \n",
    "\n",
    "```print(23 + 1) ```\n",
    "\n"
   ]
  },
  {
   "cell_type": "markdown",
   "metadata": {},
   "source": [
    "### Lists "
   ]
  },
  {
   "cell_type": "code",
   "execution_count": 34,
   "metadata": {},
   "outputs": [
    {
     "data": {
      "text/plain": [
       "'apple'"
      ]
     },
     "execution_count": 34,
     "metadata": {},
     "output_type": "execute_result"
    }
   ],
   "source": [
    "myList = [1,2,3,4,5, 'apple', 'orange']\n",
    "myList[5] \n",
    "myList.appen\n"
   ]
  },
  {
   "cell_type": "code",
   "execution_count": null,
   "metadata": {},
   "outputs": [],
   "source": []
  }
 ],
 "metadata": {
  "kernelspec": {
   "display_name": "Python 3",
   "language": "python",
   "name": "python3"
  },
  "language_info": {
   "codemirror_mode": {
    "name": "ipython",
    "version": 3
   },
   "file_extension": ".py",
   "mimetype": "text/x-python",
   "name": "python",
   "nbconvert_exporter": "python",
   "pygments_lexer": "ipython3",
   "version": "3.6.4"
  }
 },
 "nbformat": 4,
 "nbformat_minor": 2
}
