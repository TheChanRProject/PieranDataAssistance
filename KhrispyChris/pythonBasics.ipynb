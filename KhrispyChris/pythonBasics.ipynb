{
 "cells": [
  {
   "cell_type": "code",
   "execution_count": 3,
   "metadata": {},
   "outputs": [
    {
     "data": {
      "text/plain": [
       "4"
      ]
     },
     "execution_count": 3,
     "metadata": {},
     "output_type": "execute_result"
    }
   ],
   "source": [
    "2 + 2 "
   ]
  },
  {
   "cell_type": "markdown",
   "metadata": {},
   "source": [
    "### Discord Shows 1 + 1 as a String "
   ]
  },
  {
   "cell_type": "code",
   "execution_count": 7,
   "metadata": {},
   "outputs": [],
   "source": [
    "sumString = '1 + 1'"
   ]
  },
  {
   "cell_type": "code",
   "execution_count": 8,
   "metadata": {},
   "outputs": [
    {
     "name": "stdout",
     "output_type": "stream",
     "text": [
      "My name is Rishov\n"
     ]
    }
   ],
   "source": [
    "your_name = 'Rishov'\n",
    "\n",
    "print('My name is ' + your_name)  "
   ]
  },
  {
   "cell_type": "code",
   "execution_count": 9,
   "metadata": {},
   "outputs": [
    {
     "name": "stdout",
     "output_type": "stream",
     "text": [
      "My number is 12\n"
     ]
    }
   ],
   "source": [
    "my_number = 12\n",
    "\n",
    "print(f\"My number is {my_number}\" ) "
   ]
  },
  {
   "cell_type": "code",
   "execution_count": 10,
   "metadata": {},
   "outputs": [
    {
     "name": "stdout",
     "output_type": "stream",
     "text": [
      "It is the 54th anniversary since Pitzer College's founding year and I am a 4th year student in 2018.  \n"
     ]
    }
   ],
   "source": [
    "school_year = 4 \n",
    "anniversary = 54\n",
    "current_year = 2018\n",
    "\n",
    "print(f\"It is the {anniversary}th anniversary since Pitzer College's founding year and I am a {school_year}th year student in {current_year}.  \")"
   ]
  },
  {
   "cell_type": "code",
   "execution_count": 12,
   "metadata": {},
   "outputs": [
    {
     "name": "stdout",
     "output_type": "stream",
     "text": [
      "I need to get 4 apples, 5 packs of ramen, 2 boxes of cereal, and 3 gallons of milk.\n"
     ]
    }
   ],
   "source": [
    "apple_n = 4\n",
    "ramen_n = 5\n",
    "cereal_n = 2\n",
    "milk_n = 3\n",
    "\n",
    "print(f\"I need to get {apple_n} apples, {ramen_n} packs of ramen, {cereal_n} boxes of cereal, and {milk_n} gallons of milk.\")"
   ]
  },
  {
   "cell_type": "code",
   "execution_count": null,
   "metadata": {},
   "outputs": [],
   "source": []
  }
 ],
 "metadata": {
  "kernelspec": {
   "display_name": "Python 3",
   "language": "python",
   "name": "python3"
  },
  "language_info": {
   "codemirror_mode": {
    "name": "ipython",
    "version": 3
   },
   "file_extension": ".py",
   "mimetype": "text/x-python",
   "name": "python",
   "nbconvert_exporter": "python",
   "pygments_lexer": "ipython3",
   "version": "3.6.4"
  }
 },
 "nbformat": 4,
 "nbformat_minor": 2
}
