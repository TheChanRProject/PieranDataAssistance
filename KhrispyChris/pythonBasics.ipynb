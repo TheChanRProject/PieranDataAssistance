{
 "cells": [
  {
   "cell_type": "code",
   "execution_count": 3,
   "metadata": {},
   "outputs": [
    {
     "data": {
      "text/plain": [
       "4"
      ]
     },
     "execution_count": 3,
     "metadata": {},
     "output_type": "execute_result"
    }
   ],
   "source": [
    "2 + 2 "
   ]
  },
  {
   "cell_type": "markdown",
   "metadata": {},
   "source": [
    "### Discord Shows 1 + 1 as a String "
   ]
  },
  {
   "cell_type": "code",
   "execution_count": 7,
   "metadata": {},
   "outputs": [],
   "source": [
    "sumString = '1 + 1'"
   ]
  },
  {
   "cell_type": "code",
   "execution_count": 8,
   "metadata": {},
   "outputs": [
    {
     "name": "stdout",
     "output_type": "stream",
     "text": [
      "My name is Rishov\n"
     ]
    }
   ],
   "source": [
    "your_name = 'Rishov'\n",
    "\n",
    "print('My name is ' + your_name)  "
   ]
  },
  {
   "cell_type": "code",
   "execution_count": 9,
   "metadata": {},
   "outputs": [
    {
     "name": "stdout",
     "output_type": "stream",
     "text": [
      "My number is 12\n"
     ]
    }
   ],
   "source": [
    "my_number = 12\n",
    "\n",
    "print(f\"My number is {my_number}\" ) "
   ]
  },
  {
   "cell_type": "code",
   "execution_count": 10,
   "metadata": {},
   "outputs": [
    {
     "name": "stdout",
     "output_type": "stream",
     "text": [
      "It is the 54th anniversary since Pitzer College's founding year and I am a 4th year student in 2018.  \n"
     ]
    }
   ],
   "source": [
    "school_year = 4 \n",
    "anniversary = 54\n",
    "current_year = 2018\n",
    "\n",
    "print(f\"It is the {anniversary}th anniversary since Pitzer College's founding year and I am a {school_year}th year student in {current_year}.  \")"
   ]
  },
  {
   "cell_type": "code",
   "execution_count": 52,
   "metadata": {},
   "outputs": [
    {
     "name": "stdout",
     "output_type": "stream",
     "text": [
      "I need to get 4 apples, 5 packs of ramen, 2 boxes of cereal, and 3 gallons of milk.\n"
     ]
    }
   ],
   "source": [
    "apple_n = 4\n",
    "ramen_n = 5\n",
    "cereal_n = 2\n",
    "milk_n = 3\n",
    "\n",
    "result = f\"I need to get {apple_n} apples, {ramen_n} packs of ramen, {cereal_n} boxes of cereal, and {milk_n} gallons of milk.\"\n",
    "print(result)"
   ]
  },
  {
   "cell_type": "code",
   "execution_count": 13,
   "metadata": {},
   "outputs": [
    {
     "name": "stdout",
     "output_type": "stream",
     "text": [
      "pizz\n"
     ]
    }
   ],
   "source": [
    "pizza = 'pizza'\n",
    "print(pizza[:-1]) "
   ]
  },
  {
   "cell_type": "code",
   "execution_count": 31,
   "metadata": {},
   "outputs": [
    {
     "data": {
      "text/plain": [
       "2"
      ]
     },
     "execution_count": 31,
     "metadata": {},
     "output_type": "execute_result"
    }
   ],
   "source": [
    "int('2') "
   ]
  },
  {
   "cell_type": "code",
   "execution_count": 51,
   "metadata": {},
   "outputs": [
    {
     "name": "stdout",
     "output_type": "stream",
     "text": [
      "24\n"
     ]
    }
   ],
   "source": [
    "numString = '12345'\n",
    "\n",
    "result1 = int(numString[0] ) + int(numString[1:3])\n",
    "print(result1)"
   ]
  },
  {
   "cell_type": "markdown",
   "metadata": {},
   "source": [
    "### The Breakdown\n",
    "\n",
    "#### In the above, example, let's actually see what's going on. \n",
    "\n",
    "We first are getting the first number from the string since we are indexing it at the 0 place. \n",
    "\n",
    "We can see the corresponding positions in the below matrix where the second row is the position of the numbers in the string.\n",
    "\n",
    "$$ \n",
    "    \\left[ {\\begin{array}{ccccc}\n",
    "    '1' & '2' & '3' & '4' & '5' \\\\\n",
    "    0 & 1 & 2 & 3 & 4 \\\\\n",
    "    \\end{array}} \\right]\n",
    "$$ \n",
    "\n",
    "Therefore, the 0 position corresponds to the first string value '1' \n",
    "\n",
    "``` numString[0] = '1' ```\n",
    "\n",
    "Now what happens is we use the ` int() `  function to transform the string '1' to the integer 1.\n",
    "\n",
    "$$ int('1') \\rightarrow 1 $$ \n",
    "\n",
    "Let's now look at the slice from the range 1:3. \n",
    "\n",
    "From the matrix above, we can see that the 1st index is the string '2', the 2nd index is '3'. We will actually not include the 3rd index because the slice outputs the string up to the number on the right side of the colon - 1. If we want to get a mathematical intuition of that, see below:\n",
    "\n",
    "$$ string[m:n] \\rightarrow string[m] + \\space ... \\space + string[n-1] $$  \n",
    "\n",
    "$$ numString[1:3] \\rightarrow numString[1] + numString[2] $$ \n",
    "\n",
    "Now that we understand this, the resulting string is '23' . \n",
    "\n",
    "Now we apply the ` int() ` function to '23' :\n",
    "\n",
    "$$ int('23') \\rightarrow 23 $$ \n",
    "\n",
    "Finally, we print the sum of 1 and 23.\n",
    "\n",
    "$$ 23 + 1 = 24 $$ \n",
    "\n",
    "```print(23 + 1) ```\n",
    "\n"
   ]
  },
  {
   "cell_type": "markdown",
   "metadata": {},
   "source": [
    "### Lists "
   ]
  },
  {
   "cell_type": "code",
   "execution_count": 36,
   "metadata": {},
   "outputs": [
    {
     "data": {
      "text/plain": [
       "[1, 2]"
      ]
     },
     "execution_count": 36,
     "metadata": {},
     "output_type": "execute_result"
    }
   ],
   "source": [
    "myList = [1,2,3,4,5, 'apple', 'orange']\n",
    "myList[5] \n",
    "myList.append(6)\n",
    "myList\n",
    "myList[0:2]\n"
   ]
  },
  {
   "cell_type": "markdown",
   "metadata": {},
   "source": [
    "#### Notes coming soon"
   ]
  },
  {
   "cell_type": "markdown",
   "metadata": {},
   "source": [
    "### Dictionaries"
   ]
  },
  {
   "cell_type": "code",
   "execution_count": 38,
   "metadata": {},
   "outputs": [
    {
     "name": "stdout",
     "output_type": "stream",
     "text": [
      "2\n",
      "3\n",
      "5\n"
     ]
    }
   ],
   "source": [
    "myDict = {'red':2, 'blue':3, 'green':5} \n",
    "print(myDict['red'])\n",
    "print(myDict['blue'])\n",
    "print(myDict['green'])  "
   ]
  },
  {
   "cell_type": "markdown",
   "metadata": {},
   "source": [
    "#### If I have 2 red marbles, 3 blue marbles, and 5 green marbles, what is the probability I will draw a green marble? "
   ]
  },
  {
   "cell_type": "code",
   "execution_count": 50,
   "metadata": {},
   "outputs": [
    {
     "name": "stdout",
     "output_type": "stream",
     "text": [
      "The probability I will draw a green marble is 50.0%.\n"
     ]
    }
   ],
   "source": [
    "probability_green = myDict['green'] / sum(myDict.values()) * 100 \n",
    "result2 = f'The probability I will draw a green marble is {probability_green}%.'\n",
    "print(result2) "
   ]
  },
  {
   "cell_type": "markdown",
   "metadata": {},
   "source": [
    "### Tuples"
   ]
  },
  {
   "cell_type": "markdown",
   "metadata": {},
   "source": [
    "What if we had two coordinates (2,4) and (4,8) and wanted to calculate the distance between these two points?\n",
    "\n",
    "We can achieve this with the distance formula. \n",
    "\n",
    "$$ D = \\sqrt{(x_2 - x_1)^2 + (y_2 - y_1)^2} $$ "
   ]
  },
  {
   "cell_type": "code",
   "execution_count": 42,
   "metadata": {},
   "outputs": [
    {
     "name": "stdout",
     "output_type": "stream",
     "text": [
      "2\n",
      "4\n"
     ]
    }
   ],
   "source": [
    "coor1 = (2,4)\n",
    "coor2 = (4,8) \n",
    "\n",
    "diff_x = coor2[0] - coor1[0]\n",
    "diff_y = coor2[1] - coor1[1] \n",
    "print(diff_x) \n",
    "print(diff_y) "
   ]
  },
  {
   "cell_type": "markdown",
   "metadata": {},
   "source": [
    "What's another way to represent the expression below?  \n",
    "\n",
    "$$ 2^{\\frac{5}{3}} $$ \n",
    "\n",
    "$$ 2^{\\frac{5}{3}} \\rightarrow \\sqrt[3]{2^5} $$ \n",
    "\n"
   ]
  },
  {
   "cell_type": "markdown",
   "metadata": {},
   "source": [
    "### To get the square root, we can write a fractional exponent\n",
    "\n",
    "$$ \\sqrt{n} \\rightarrow n^{1/2} = n^{0.5} $$ \n",
    "\n",
    "```\n",
    "distance = (diff_x**2 + diff_y**2)**0.5\n",
    "print(distance)\n",
    "```"
   ]
  },
  {
   "cell_type": "code",
   "execution_count": 49,
   "metadata": {},
   "outputs": [
    {
     "name": "stdout",
     "output_type": "stream",
     "text": [
      "The distance from (2,4) to (4,8) is approximately 4.47 units.\n"
     ]
    }
   ],
   "source": [
    "distance = (diff_x**2 + diff_y**2)**0.5\n",
    "result3 = 'The distance from (2,4) to (4,8) is approximately {0:.2f} units.'.format(distance)\n",
    "print(result3) "
   ]
  },
  {
   "cell_type": "markdown",
   "metadata": {},
   "source": [
    "### File Input Output\n"
   ]
  },
  {
   "cell_type": "markdown",
   "metadata": {},
   "source": [
    "Let's first get all our previous results from the exercises because we want to write out these results into a text file called results.txt "
   ]
  },
  {
   "cell_type": "code",
   "execution_count": 53,
   "metadata": {},
   "outputs": [
    {
     "name": "stdout",
     "output_type": "stream",
     "text": [
      "I need to get 4 apples, 5 packs of ramen, 2 boxes of cereal, and 3 gallons of milk.\n",
      "24\n",
      "The probability I will draw a green marble is 50.0%.\n",
      "The distance from (2,4) to (4,8) is approximately 4.47 units.\n"
     ]
    }
   ],
   "source": [
    "result = f\"I need to get {apple_n} apples, {ramen_n} packs of ramen, {cereal_n} boxes of cereal, and {milk_n} gallons of milk.\"\n",
    "print(result)\n",
    "\n",
    "result1 = int(numString[0] ) + int(numString[1:3])\n",
    "print(result1)\n",
    "\n",
    "result2 = f'The probability I will draw a green marble is {probability_green}%.'\n",
    "print(result2)\n",
    "\n",
    "result3 = 'The distance from (2,4) to (4,8) is approximately {0:.2f} units.'.format(distance)\n",
    "print(result3) "
   ]
  },
  {
   "cell_type": "code",
   "execution_count": 68,
   "metadata": {},
   "outputs": [
    {
     "data": {
      "text/plain": [
       "'/Users/rchatter/Desktop/DS/Python/PieranDataAssistance/KhrispyChris/files'"
      ]
     },
     "execution_count": 68,
     "metadata": {},
     "output_type": "execute_result"
    }
   ],
   "source": [
    "pwd"
   ]
  },
  {
   "cell_type": "code",
   "execution_count": null,
   "metadata": {},
   "outputs": [],
   "source": []
  }
 ],
 "metadata": {
  "kernelspec": {
   "display_name": "Python 3",
   "language": "python",
   "name": "python3"
  },
  "language_info": {
   "codemirror_mode": {
    "name": "ipython",
    "version": 3
   },
   "file_extension": ".py",
   "mimetype": "text/x-python",
   "name": "python",
   "nbconvert_exporter": "python",
   "pygments_lexer": "ipython3",
   "version": "3.6.4"
  }
 },
 "nbformat": 4,
 "nbformat_minor": 2
}
