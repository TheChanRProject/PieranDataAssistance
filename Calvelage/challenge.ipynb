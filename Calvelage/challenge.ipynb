{
 "cells": [
  {
   "cell_type": "markdown",
   "metadata": {},
   "source": [
    "## Write a function that takes two arguments: a word and a file name that prints out all the lines in the file which contain that specific word"
   ]
  },
  {
   "cell_type": "code",
   "execution_count": 12,
   "metadata": {},
   "outputs": [
    {
     "name": "stdout",
     "output_type": "stream",
     "text": [
      "Four years later, I am a college graduate.\n",
      "\n"
     ]
    }
   ],
   "source": [
    "\n",
    "\n",
    "def lines_with_word(word,file_name):\n",
    "    file = open(file_name) \n",
    "    for line in file.readlines():\n",
    "        if word in line:\n",
    "            return line\n",
    "print(lines_with_word('graduate','sample.txt'))  "
   ]
  },
  {
   "cell_type": "code",
   "execution_count": null,
   "metadata": {},
   "outputs": [],
   "source": []
  }
 ],
 "metadata": {
  "kernelspec": {
   "display_name": "Python 3",
   "language": "python",
   "name": "python3"
  },
  "language_info": {
   "codemirror_mode": {
    "name": "ipython",
    "version": 3
   },
   "file_extension": ".py",
   "mimetype": "text/x-python",
   "name": "python",
   "nbconvert_exporter": "python",
   "pygments_lexer": "ipython3",
   "version": "3.6.4"
  }
 },
 "nbformat": 4,
 "nbformat_minor": 2
}
