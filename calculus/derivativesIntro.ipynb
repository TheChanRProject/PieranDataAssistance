{
 "cells": [
  {
   "cell_type": "markdown",
   "metadata": {},
   "source": [
    "This notebook will implement simple derivatives of single variable functions in Python. "
   ]
  },
  {
   "cell_type": "markdown",
   "metadata": {},
   "source": [
    "$$ f(x) = x^n + an + b $$ "
   ]
  },
  {
   "cell_type": "markdown",
   "metadata": {},
   "source": [
    "Let's use Python code to take the derivative of f(x)"
   ]
  },
  {
   "cell_type": "markdown",
   "metadata": {},
   "source": [
    "The derivative of f(x) is $$ f'(x) = nx^{n-1} + a $$ "
   ]
  },
  {
   "cell_type": "markdown",
   "metadata": {},
   "source": [
    "For doing calculus operations in Python, we'll use the SymPy library.\n",
    "    "
   ]
  },
  {
   "cell_type": "code",
   "execution_count": 1,
   "metadata": {},
   "outputs": [],
   "source": [
    "from sympy import *"
   ]
  },
  {
   "cell_type": "code",
   "execution_count": 14,
   "metadata": {},
   "outputs": [
    {
     "name": "stdout",
     "output_type": "stream",
     "text": [
      "3 x^{2}\n"
     ]
    }
   ],
   "source": [
    "def derivative(x,n,a,b):\n",
    "    x = symbols('x')\n",
    "    function = pow(x,n) + a*n + b\n",
    "    return diff(function, x)\n",
    "\n",
    "print(latex(eval(str(derivative(x,3,2,4)))))"
   ]
  },
  {
   "cell_type": "markdown",
   "metadata": {},
   "source": [
    "Let's use numpy and matplotlib to see the graphs of the original function f(x) and its derivative f'(x) "
   ]
  },
  {
   "cell_type": "markdown",
   "metadata": {},
   "source": [
    "The derivative is $$ 3 x^{2} $$ "
   ]
  },
  {
   "cell_type": "code",
   "execution_count": 19,
   "metadata": {},
   "outputs": [],
   "source": [
    "%matplotlib inline\n",
    "import numpy as np\n",
    "import matplotlib.pyplot as plt \n"
   ]
  },
  {
   "cell_type": "code",
   "execution_count": 20,
   "metadata": {},
   "outputs": [
    {
     "name": "stdout",
     "output_type": "stream",
     "text": [
      "[  11   18   37   74  135  226  353  522  739 1010]\n",
      "[  3  12  27  48  75 108 147 192 243 300]\n"
     ]
    },
    {
     "data": {
      "image/png": "[encoded data removed]",
      "text/plain": [
       "<matplotlib.figure.Figure at 0x1132343c8>"
      ]
     },
     "metadata": {},
     "output_type": "display_data"
    }
   ],
   "source": [
    "xVals = np.arange(1,11)\n",
    "\n",
    "def origFunction(x,n,a,b):\n",
    "    return pow(x,n) + a*n + b\n",
    "\n",
    "yOrigVals = origFunction(xVals,3,2,4)\n",
    "print(yOrigVals)\n",
    "\n",
    "def functionDerivative(x,n,a,b):\n",
    "    return 3*pow(x,2)\n",
    "\n",
    "yDeriVals = functionDerivative(xVals,3,2,4)\n",
    "print(yDeriVals)\n",
    "\n",
    "plt.plot(xVals, yOrigVals, 'r')\n",
    "plt.plot(xVals, yDeriVals, 'g')\n",
    "plt.show()"
   ]
  }
 ],
 "metadata": {
  "kernelspec": {
   "display_name": "Python 3",
   "language": "python",
   "name": "python3"
  },
  "language_info": {
   "codemirror_mode": {
    "name": "ipython",
    "version": 3
   },
   "file_extension": ".py",
   "mimetype": "text/x-python",
   "name": "python",
   "nbconvert_exporter": "python",
   "pygments_lexer": "ipython3",
   "version": "3.6.4"
  }
 },
 "nbformat": 4,
 "nbformat_minor": 2
}
