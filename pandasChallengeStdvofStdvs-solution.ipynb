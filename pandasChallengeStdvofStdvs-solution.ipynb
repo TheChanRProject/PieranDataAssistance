{
 "cells": [
  {
   "cell_type": "code",
   "execution_count": 2,
   "metadata": {},
   "outputs": [
    {
     "name": "stdout",
     "output_type": "stream",
     "text": [
      "   Column1  Column2  Column3  Column4  Column5\n",
      "0        0       50      100      150      200\n",
      "1        1       51      101      151      201\n",
      "2        2       52      102      152      202\n",
      "3        3       53      103      153      203\n",
      "4        4       54      104      154      204\n"
     ]
    }
   ],
   "source": [
    "import numpy as np \n",
    "import pandas as pd \n",
    "\n",
    "\n",
    "myData = pd.read_csv\n"
   ]
  },
  {
   "cell_type": "markdown",
   "metadata": {},
   "source": [
    "### Standard Deviation of Standard Deviations Challenge "
   ]
  },
  {
   "cell_type": "code",
   "execution_count": 9,
   "metadata": {},
   "outputs": [
    {
     "name": "stdout",
     "output_type": "stream",
     "text": [
      "The standard deviation of standard deviations is: 0.0\n"
     ]
    }
   ],
   "source": [
    "import math as m\n",
    "\n",
    "def stdv(x):\n",
    "    average = sum(x) / len(x)\n",
    "    sumSq = sum([pow(i - average, 2) for i in x])\n",
    "    variance = sumSq / len(x)\n",
    "    return m.sqrt(variance) \n",
    "\n",
    "col6 = [stdv(np.array(myData['Column1'].values)), \n",
    "       stdv(np.array(myData['Column2'].values)),\n",
    "       stdv(np.array(myData['Column3'].values)),\n",
    "       stdv(np.array(myData['Column4'].values)),\n",
    "       stdv(np.array(myData['Column5'].values))]\n",
    "\n",
    "print('The standard deviation of standard deviations is: ' + str(stdv(col6)))"
   ]
  },
  {
   "cell_type": "code",
   "execution_count": null,
   "metadata": {},
   "outputs": [],
   "source": []
  }
 ],
 "metadata": {
  "kernelspec": {
   "display_name": "Python 3",
   "language": "python",
   "name": "python3"
  },
  "language_info": {
   "codemirror_mode": {
    "name": "ipython",
    "version": 3
   },
   "file_extension": ".py",
   "mimetype": "text/x-python",
   "name": "python",
   "nbconvert_exporter": "python",
   "pygments_lexer": "ipython3",
   "version": "3.6.4"
  }
 },
 "nbformat": 4,
 "nbformat_minor": 2
}
