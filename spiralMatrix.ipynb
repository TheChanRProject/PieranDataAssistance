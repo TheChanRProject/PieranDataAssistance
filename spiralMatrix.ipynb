{
 "cells": [
  {
   "cell_type": "code",
   "execution_count": 1,
   "metadata": {},
   "outputs": [],
   "source": []
  },
  {
   "cell_type": "code",
   "execution_count": 2,
   "metadata": {},
   "outputs": [],
   "source": [
    "import numpy as np\n",
    "\n",
    "A = [5,3,8,9,4,1,3,-2,4,6,0,3,6,4,2,1,4,-5,3,1,9,5,6,6,3,7,5,3,2,8,9,4,5,3,-3,6,3,2,8,0,5,7,5,3,3,-9,2,2,0,4,3,2,5,7,5,4]\n",
    "\n",
    "\n",
    "def solution(A):\n",
    "    arrayA = np.array(A)\n",
    "    newArray = arrayA.reshape((7,8))\n",
    "    firstElement = newArray[0,0]\n",
    "    remove1Col = np.delete(newArray,0,1)\n",
    "    removeLRow = np.delete(remove1Col, -1, 0)\n",
    "    upper_spiral_sum = sum(np.append(firstElement,removeLRow))\n",
    "    return upper_spiral_sum\n",
    "\n",
    "\n",
    "print(solution(A))"
   ]
  },
  {
   "cell_type": "code",
   "execution_count": 5,
   "metadata": {},
   "outputs": [
    {
     "name": "stdout",
     "output_type": "stream",
     "text": [
      "148\n"
     ]
    }
   ],
   "source": [
    "A = [5,3,8,9,4,1,3,-2,4,6,0,3,6,4,2,1,4,-5,3,1,9,5,6,6,3,7,5,3,2,8,9,4,5,3,-3,6,3,2,8,0,5,7,5,3,3,-9,2,2,0,4,3,2,5,7,5,4]\n",
    "\n",
    "print(solution(A))"
   ]
  },
  {
   "cell_type": "code",
   "execution_count": null,
   "metadata": {},
   "outputs": [],
   "source": []
  }
 ],
 "metadata": {
  "kernelspec": {
   "display_name": "Python 3",
   "language": "python",
   "name": "python3"
  },
  "language_info": {
   "codemirror_mode": {
    "name": "ipython",
    "version": 3
   },
   "file_extension": ".py",
   "mimetype": "text/x-python",
   "name": "python",
   "nbconvert_exporter": "python",
   "pygments_lexer": "ipython3",
   "version": "3.6.4"
  }
 },
 "nbformat": 4,
 "nbformat_minor": 2
}
