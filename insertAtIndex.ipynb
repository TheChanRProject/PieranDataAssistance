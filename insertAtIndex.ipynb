{
 "cells": [
  {
   "cell_type": "code",
   "execution_count": 3,
   "metadata": {},
   "outputs": [
    {
     "name": "stdout",
     "output_type": "stream",
     "text": [
      "['Hi', 'yourString', 2, 18.0, 'program']\n"
     ]
    }
   ],
   "source": [
    "myList = [\"Hi\",2,18.0,\"program\"] \n",
    "\n",
    "# If you already know the index\n",
    "\n",
    "\n",
    "myList.insert(1, \"yourString\")\n",
    "\n",
    "# If you did not know the index where you want to insert, you can use the index method \n",
    "\n",
    "myList.insert(myList.index(2), 'yourString')\n",
    "\n",
    "print(myList)\n",
    "\n",
    "\n",
    "\n",
    "\n"
   ]
  },
  {
   "cell_type": "code",
   "execution_count": null,
   "metadata": {},
   "outputs": [],
   "source": []
  }
 ],
 "metadata": {
  "kernelspec": {
   "display_name": "Python 3",
   "language": "python",
   "name": "python3"
  },
  "language_info": {
   "codemirror_mode": {
    "name": "ipython",
    "version": 3
   },
   "file_extension": ".py",
   "mimetype": "text/x-python",
   "name": "python",
   "nbconvert_exporter": "python",
   "pygments_lexer": "ipython3",
   "version": "3.6.4"
  }
 },
 "nbformat": 4,
 "nbformat_minor": 2
}
