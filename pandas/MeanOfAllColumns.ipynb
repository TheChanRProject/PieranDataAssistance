{
 "cells": [
  {
   "cell_type": "code",
   "execution_count": 3,
   "metadata": {},
   "outputs": [
    {
     "data": {
      "text/plain": [
       "',Column1,Column2,Column3,Column4\\n0,0,50,100,150\\n1,1,51,101,151\\n2,2,52,102,152\\n3,3,53,103,153\\n4,4,54,104,154\\n5,5,55,105,155\\n6,6,56,106,156\\n7,7,57,107,157\\n8,8,58,108,158\\n9,9,59,109,159\\n10,10,60,110,160\\n11,11,61,111,161\\n12,12,62,112,162\\n13,13,63,113,163\\n14,14,64,114,164\\n15,15,65,115,165\\n16,16,66,116,166\\n17,17,67,117,167\\n18,18,68,118,168\\n19,19,69,119,169\\n20,20,70,120,170\\n21,21,71,121,171\\n22,22,72,122,172\\n23,23,73,123,173\\n24,24,74,124,174\\n25,25,75,125,175\\n26,26,76,126,176\\n27,27,77,127,177\\n28,28,78,128,178\\n29,29,79,129,179\\n30,30,80,130,180\\n31,31,81,131,181\\n32,32,82,132,182\\n33,33,83,133,183\\n34,34,84,134,184\\n35,35,85,135,185\\n36,36,86,136,186\\n37,37,87,137,187\\n38,38,88,138,188\\n39,39,89,139,189\\n40,40,90,140,190\\n41,41,91,141,191\\n42,42,92,142,192\\n43,43,93,143,193\\n44,44,94,144,194\\n45,45,95,145,195\\n46,46,96,146,196\\n47,47,97,147,197\\n48,48,98,148,198\\n49,49,99,149,199\\n50,50,100,150,200\\n'"
      ]
     },
     "execution_count": 3,
     "metadata": {},
     "output_type": "execute_result"
    }
   ],
   "source": [
    "import numpy as np\n",
    "import pandas as pd \n",
    "\n",
    "col1 = [i for i in range(51)]\n",
    "col2 = [i for i in range(50,101)]\n",
    "col3 = [i for i in range(100,151)]\n",
    "col4 = [i for i in range(150,201)]\n",
    "\n",
    "colDict = {\"Column1\": col1, \"Column2\": col2, \"Column3\": col3, \"Column4\": col4}\n",
    "colFrame = pd.DataFrame.from_records(colDict);\n",
    "colFrame.head()\n",
    "\n",
    "pd.DataFrame.to_csv(colFrame)\n",
    "\n"
   ]
  },
  {
   "cell_type": "code",
   "execution_count": null,
   "metadata": {},
   "outputs": [],
   "source": []
  }
 ],
 "metadata": {
  "kernelspec": {
   "display_name": "Python 3",
   "language": "python",
   "name": "python3"
  },
  "language_info": {
   "codemirror_mode": {
    "name": "ipython",
    "version": 3
   },
   "file_extension": ".py",
   "mimetype": "text/x-python",
   "name": "python",
   "nbconvert_exporter": "python",
   "pygments_lexer": "ipython3",
   "version": "3.6.4"
  }
 },
 "nbformat": 4,
 "nbformat_minor": 2
}
