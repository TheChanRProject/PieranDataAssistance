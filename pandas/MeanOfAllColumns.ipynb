{
 "cells": [
  {
   "cell_type": "code",
   "execution_count": 5,
   "metadata": {},
   "outputs": [],
   "source": [
    "import numpy as np\n",
    "import pandas as pd \n",
    "\n",
    "col1 = [i for i in range(51)]\n",
    "col2 = [i for i in range(50,101)]\n",
    "col3 = [i for i in range(100,151)]\n",
    "col4 = [i for i in range(150,201)]\n",
    "\n",
    "colDict = {\"Column1\": col1, \"Column2\": col2, \"Column3\": col3, \"Column4\": col4}\n",
    "colFrame = pd.DataFrame.from_records(colDict);\n",
    "colFrame.head()\n",
    "\n",
    "colFrame.to_csv('../data/colFrame.csv')\n",
    "\n"
   ]
  },
  {
   "cell_type": "markdown",
   "metadata": {},
   "source": [
    "## Overall Mean in a DataFrame"
   ]
  },
  {
   "cell_type": "code",
   "execution_count": 65,
   "metadata": {},
   "outputs": [
    {
     "name": "stdout",
     "output_type": "stream",
     "text": [
      "   Record Column2 Column3 Column4 Column5\n",
      "1     0.0       0      50     100     150\n",
      "2     1.0       1      51     101     151\n",
      "3     2.0       2      52     102     152\n",
      "4     3.0       3      53     103     153\n",
      "5     4.0       4      54     104     154\n",
      "Record      25.0\n",
      "Column2     25.0\n",
      "Column3     75.0\n",
      "Column4    125.0\n",
      "Column5    175.0\n",
      "dtype: float64\n",
      "[25.0, 25.0, 75.0, 125.0, 175.0]\n",
      "85.0\n"
     ]
    }
   ],
   "source": [
    "# reading csv file\n",
    "df = pd.read_csv('../data/colFrame.csv', names=['Record','Column2',\"Column3\",\"Column4\",\"Column5\"])\n",
    "# dropping the row from my crap generated dataframe\n",
    "df.drop(df.index[0], inplace=True)\n",
    "# viewing the first 5 rows after dropping the dumb row at the 0 index\n",
    "print(df.head())\n",
    "# transforming all the values in the columns as float64 values \n",
    "transformDF = df.astype(dtype='float64')\n",
    "# gathering a display of means of all the columns in the dataframe\n",
    "print(transformDF.mean()) \n",
    "# transforming the means into a list of the means of each column\n",
    "meanL = list(transformDF.mean())\n",
    "print(meanL)\n",
    "# Computing the Mean of All the Means \n",
    "print(sum(meanL) / len(meanL)) \n",
    "\n",
    "\n",
    "\n",
    " "
   ]
  },
  {
   "cell_type": "code",
   "execution_count": null,
   "metadata": {},
   "outputs": [],
   "source": []
  }
 ],
 "metadata": {
  "kernelspec": {
   "display_name": "Python 3",
   "language": "python",
   "name": "python3"
  },
  "language_info": {
   "codemirror_mode": {
    "name": "ipython",
    "version": 3
   },
   "file_extension": ".py",
   "mimetype": "text/x-python",
   "name": "python",
   "nbconvert_exporter": "python",
   "pygments_lexer": "ipython3",
   "version": "3.6.4"
  }
 },
 "nbformat": 4,
 "nbformat_minor": 2
}
