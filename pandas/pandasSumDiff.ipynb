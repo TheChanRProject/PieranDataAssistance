{
 "cells": [
  {
   "cell_type": "code",
   "execution_count": 1,
   "metadata": {},
   "outputs": [
    {
     "data": {
      "text/html": [
       "<div>\n",
       "<style scoped>\n",
       "    .dataframe tbody tr th:only-of-type {\n",
       "        vertical-align: middle;\n",
       "    }\n",
       "\n",
       "    .dataframe tbody tr th {\n",
       "        vertical-align: top;\n",
       "    }\n",
       "\n",
       "    .dataframe thead th {\n",
       "        text-align: right;\n",
       "    }\n",
       "</style>\n",
       "<table border=\"1\" class=\"dataframe\">\n",
       "  <thead>\n",
       "    <tr style=\"text-align: right;\">\n",
       "      <th></th>\n",
       "      <th>Value1</th>\n",
       "      <th>Value2</th>\n",
       "    </tr>\n",
       "  </thead>\n",
       "  <tbody>\n",
       "    <tr>\n",
       "      <th>0</th>\n",
       "      <td>30</td>\n",
       "      <td>60</td>\n",
       "    </tr>\n",
       "    <tr>\n",
       "      <th>1</th>\n",
       "      <td>40</td>\n",
       "      <td>80</td>\n",
       "    </tr>\n",
       "    <tr>\n",
       "      <th>2</th>\n",
       "      <td>50</td>\n",
       "      <td>100</td>\n",
       "    </tr>\n",
       "    <tr>\n",
       "      <th>3</th>\n",
       "      <td>60</td>\n",
       "      <td>120</td>\n",
       "    </tr>\n",
       "    <tr>\n",
       "      <th>4</th>\n",
       "      <td>70</td>\n",
       "      <td>140</td>\n",
       "    </tr>\n",
       "  </tbody>\n",
       "</table>\n",
       "</div>"
      ],
      "text/plain": [
       "   Value1  Value2\n",
       "0      30      60\n",
       "1      40      80\n",
       "2      50     100\n",
       "3      60     120\n",
       "4      70     140"
      ]
     },
     "execution_count": 1,
     "metadata": {},
     "output_type": "execute_result"
    }
   ],
   "source": [
    "import pandas as pd \n",
    "\n",
    "df = pd.read_csv('data/fake-data.csv')\n",
    "df.head()"
   ]
  },
  {
   "cell_type": "code",
   "execution_count": 2,
   "metadata": {},
   "outputs": [
    {
     "name": "stdout",
     "output_type": "stream",
     "text": [
      "0     30\n",
      "1     40\n",
      "2     50\n",
      "3     60\n",
      "4     70\n",
      "5     80\n",
      "6     90\n",
      "7    100\n",
      "Name: Value1, dtype: int64\n"
     ]
    }
   ],
   "source": [
    "print(df['Value1'])"
   ]
  },
  {
   "cell_type": "code",
   "execution_count": 3,
   "metadata": {},
   "outputs": [
    {
     "name": "stdout",
     "output_type": "stream",
     "text": [
      "0     60\n",
      "1     80\n",
      "2    100\n",
      "3    120\n",
      "4    140\n",
      "5    160\n",
      "6    180\n",
      "7    200\n",
      "Name: Value2, dtype: int64\n"
     ]
    }
   ],
   "source": [
    "print(df['Value2'])"
   ]
  },
  {
   "cell_type": "code",
   "execution_count": 5,
   "metadata": {},
   "outputs": [
    {
     "name": "stdout",
     "output_type": "stream",
     "text": [
      "0     90\n",
      "1    120\n",
      "2    150\n",
      "3    180\n",
      "4    210\n",
      "5    240\n",
      "6    270\n",
      "7    300\n",
      "Name: Value3Add, dtype: int64\n",
      "0    -30\n",
      "1    -40\n",
      "2    -50\n",
      "3    -60\n",
      "4    -70\n",
      "5    -80\n",
      "6    -90\n",
      "7   -100\n",
      "Name: Value3Sub1, dtype: int64\n",
      "0     30\n",
      "1     40\n",
      "2     50\n",
      "3     60\n",
      "4     70\n",
      "5     80\n",
      "6     90\n",
      "7    100\n",
      "Name: Value3Sub2, dtype: int64\n"
     ]
    }
   ],
   "source": [
    "import numpy as np \n",
    "\n",
    "value1Arr = np.array(df['Value1'])\n",
    "value2Arr = np.array(df['Value2'])\n",
    "\n",
    "def add(x,y):\n",
    "    return x + y\n",
    "\n",
    "def subtract(x,y,z):\n",
    "    if z == 'y from x':\n",
    "        diff = x - y\n",
    "    if z == 'x from y':\n",
    "        diff = y - x\n",
    "    return diff \n",
    "\n",
    "value3AddArr = add(value1Arr, value2Arr)\n",
    "\n",
    "value3SubArr1 = subtract(value1Arr, value2Arr, 'y from x')\n",
    "\n",
    "value3SubArr2 = subtract(value1Arr, value2Arr, 'x from y')\n",
    "\n",
    "df['Value3Add'] = value3AddArr\n",
    "\n",
    "print(df['Value3Add']) \n",
    "\n",
    "df['Value3Sub1'] = value3SubArr1 \n",
    "\n",
    "print(df['Value3Sub1'])\n",
    "\n",
    "df['Value3Sub2'] = value3SubArr2\n",
    "\n",
    "print(df['Value3Sub2'])"
   ]
  },
  {
   "cell_type": "code",
   "execution_count": null,
   "metadata": {},
   "outputs": [],
   "source": []
  }
 ],
 "metadata": {
  "kernelspec": {
   "display_name": "Python 3",
   "language": "python",
   "name": "python3"
  },
  "language_info": {
   "codemirror_mode": {
    "name": "ipython",
    "version": 3
   },
   "file_extension": ".py",
   "mimetype": "text/x-python",
   "name": "python",
   "nbconvert_exporter": "python",
   "pygments_lexer": "ipython3",
   "version": "3.6.4"
  }
 },
 "nbformat": 4,
 "nbformat_minor": 2
}
