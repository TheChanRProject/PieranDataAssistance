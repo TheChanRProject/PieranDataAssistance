{
 "cells": [
  {
   "cell_type": "code",
   "execution_count": 7,
   "metadata": {},
   "outputs": [
    {
     "name": "stdout",
     "output_type": "stream",
     "text": [
      "   Column1  Column2  Column3  Column4  Column5\n",
      "0        0       50      100      150      200\n",
      "1        1       51      101      151      201\n",
      "2        2       52      102      152      202\n",
      "3        3       53      103      153      203\n",
      "4        4       54      104      154      204\n"
     ]
    }
   ],
   "source": [
    "import numpy as np \n",
    "import pandas as pd \n",
    "\n",
    "\n",
    "col1 = [i for i in range(51)]\n",
    "col2 = [i for i in range(50,101)]\n",
    "col3 = [i for i in range(100,151)]\n",
    "col4 = [i for i in range(150,201)]\n",
    "col5 = [i for i in range(200,251)] \n",
    "\n",
    "\n",
    "data = {'Column1':col1, 'Column2': col2,'Column3':col3, 'Column4':col4, 'Column5':col5}\n",
    "\n",
    "myData = pd.DataFrame.from_dict(data)\n",
    "\n",
    "print(myData.head())\n",
    "\n",
    "\n",
    "myData.to_csv('myData.csv')\n"
   ]
  },
  {
   "cell_type": "code",
   "execution_count": null,
   "metadata": {},
   "outputs": [],
   "source": []
  }
 ],
 "metadata": {
  "kernelspec": {
   "display_name": "Python 3",
   "language": "python",
   "name": "python3"
  },
  "language_info": {
   "codemirror_mode": {
    "name": "ipython",
    "version": 3
   },
   "file_extension": ".py",
   "mimetype": "text/x-python",
   "name": "python",
   "nbconvert_exporter": "python",
   "pygments_lexer": "ipython3",
   "version": "3.6.4"
  }
 },
 "nbformat": 4,
 "nbformat_minor": 2
}
