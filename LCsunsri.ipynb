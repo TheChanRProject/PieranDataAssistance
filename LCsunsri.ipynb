{
 "cells": [
  {
   "cell_type": "code",
   "execution_count": 4,
   "metadata": {},
   "outputs": [
    {
     "name": "stdout",
     "output_type": "stream",
     "text": [
      "[1, 2, 4, 5, 7, 8, 10, 11, 13, 14, 16, 17, 19, 20, 22, 23, 25, 26, 28, 29, 31, 32, 34, 35, 37, 38, 40, 41, 43, 44, 46, 47, 49]\n"
     ]
    }
   ],
   "source": [
    "mlist = []\n",
    "mlist=[x for x in range(1,50) if x%3]\n",
    "print(mlist)\n"
   ]
  },
  {
   "cell_type": "code",
   "execution_count": 2,
   "metadata": {},
   "outputs": [
    {
     "name": "stdout",
     "output_type": "stream",
     "text": [
      "['even', 'even', 3, 'even', 'even', 6, 'even', 'even', 9, 'even', 'even', 12, 'even', 'even', 15, 'even', 'even', 18, 'even', 'even', 21, 'even', 'even', 24, 'even', 'even', 27, 'even', 'even', 30, 'even', 'even', 33, 'even', 'even', 36, 'even', 'even', 39, 'even', 'even', 42, 'even', 'even', 45, 'even', 'even', 48, 'even']\n"
     ]
    }
   ],
   "source": [
    "mlist=[]\n",
    "mlist=[x if x%3==0 else 'even' for x in range(1,50)]\n",
    "print(mlist)"
   ]
  },
  {
   "cell_type": "markdown",
   "metadata": {},
   "source": [
    "Testing out the theory"
   ]
  },
  {
   "cell_type": "code",
   "execution_count": 8,
   "metadata": {},
   "outputs": [
    {
     "name": "stdout",
     "output_type": "stream",
     "text": [
      "2\n",
      "4\n",
      "[2, 4]\n"
     ]
    }
   ],
   "source": [
    "y = [1,2,3,4,5]\n",
    "\n",
    "for x in y:\n",
    "   if x % 2 == 0:\n",
    "        print(x) \n",
    "\n",
    "\n",
    "# List Comprehension with If\n",
    "\n",
    "print([x for x in y if x % 2 == 0])\n",
    "\n"
   ]
  },
  {
   "cell_type": "code",
   "execution_count": null,
   "metadata": {},
   "outputs": [],
   "source": []
  }
 ],
 "metadata": {
  "kernelspec": {
   "display_name": "Python 3",
   "language": "python",
   "name": "python3"
  },
  "language_info": {
   "codemirror_mode": {
    "name": "ipython",
    "version": 3
   },
   "file_extension": ".py",
   "mimetype": "text/x-python",
   "name": "python",
   "nbconvert_exporter": "python",
   "pygments_lexer": "ipython3",
   "version": "3.6.4"
  }
 },
 "nbformat": 4,
 "nbformat_minor": 2
}
