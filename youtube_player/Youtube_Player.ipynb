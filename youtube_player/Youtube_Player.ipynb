{
 "cells": [
  {
   "cell_type": "code",
   "execution_count": null,
   "metadata": {},
   "outputs": [],
   "source": [
    "import urllib.request\n",
    "import urllib.parse\n",
    "import re\n",
    "import webbrowser as wb\n",
    "\n",
    "query_string = urllib.parse.urlencode({\"search_query\" : input()})\n",
    "\n",
    "html_content = urllib.request.urlopen(\"http://www.youtube.com/results?\"+query_string)\n",
    "\n",
    "search_results = re.findall(r'href=\\\"\\/watch\\?v=(.{11})', html_content.read().decode())\n",
    "\n",
    "print(\"http://www.youtube.com/watch?v=\" + search_results[0])\n",
    "\n",
    "wb.open_new(\"http://www.youtube.com/watch?v={}\".format(search_results[0]))"
   ]
  },
  {
   "cell_type": "code",
   "execution_count": null,
   "metadata": {},
   "outputs": [],
   "source": []
  },
  {
   "cell_type": "code",
   "execution_count": null,
   "metadata": {},
   "outputs": [],
   "source": []
  }
 ],
 "metadata": {
  "kernelspec": {
   "display_name": "Python 3",
   "language": "python",
   "name": "python3"
  },
  "language_info": {
   "codemirror_mode": {
    "name": "ipython",
    "version": 3
   },
   "file_extension": ".py",
   "mimetype": "text/x-python",
   "name": "python",
   "nbconvert_exporter": "python",
   "pygments_lexer": "ipython3",
   "version": "3.7.0"
  }
 },
 "nbformat": 4,
 "nbformat_minor": 2
}
