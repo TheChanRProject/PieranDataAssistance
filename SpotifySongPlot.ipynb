{
 "cells": [
  {
   "cell_type": "code",
   "execution_count": 18,
   "metadata": {},
   "outputs": [
    {
     "name": "stdout",
     "output_type": "stream",
     "text": [
      "21\n",
      "21\n",
      "21\n",
      "21\n"
     ]
    }
   ],
   "source": [
    "import numpy as np\n",
    "import pandas as pd \n",
    "import matplotlib.pyplot as plt \n",
    "\n",
    "artistNames = ['Drake', 'Kendrick_Lamar', 'Nujabes', 'Blackbear', 'Drake', 'Kendrick_Lamar', 'Blackbear', \n",
    "              'Sinead_Harnett', 'Phora', 'Drake', 'Stam_Goody', 'Phora', 'Sinead_Harnett', 'Kendrick_Lamar',\n",
    "              'Nujabes', 'Phora', 'Blackbear', 'Manse', 'RINI', 'Sinead_Harnett', 'Alina_Baraz']\n",
    "\n",
    "print(len(artistNames))\n",
    "\n",
    "songNames = ['Best_I_Ever_Had', 'Good_Kid', 'Feather', 'Something_Real', 'Gods_Plan','Rigamortus', 'NYLA',\n",
    "            'Rather_Be_With_You', 'Boss_Up', 'Forever', 'Clutch', 'do_re_mi', 'Body', 'HUMBLE',\n",
    "            'Beat_Laments_The_World', 'To_The_Moon', 'Idfc', 'Freeze_Time', 'Emerald', 'No_Other_Way', 'Make_You_Feel']\n",
    "print(len(songNames)) \n",
    "\n",
    "Spotify_monthly_listeners = [56618250, 25874450, 357803, 9495201, 56618250, 25874450, 9495201, \n",
    "                            1285620, 1367953, 56618250, 19244, 1367953, 1285620, 25874450,\n",
    "                            357803, 1367953, 9495201, 207424, 115343, 1275620, 3371568]\n",
    "print(len(Spotify_monthly_listeners)) \n",
    "\n",
    "Song_Durations = ['4:17', '3:34', '2:55', '2:51', '3:19', '2:49', '5:00',\n",
    "                 '3:19', '3:01', '5:57', '2:42', '3:32', '3:49', '2:57',\n",
    "                 '4:23', '4:12', '4:05', '3:15', '3:32', '3:20', '3:41'] \n",
    "print(len(Song_Durations)) \n",
    "\n",
    "csvDict = {'Artist_Name': artistNames, 'Song_Names': songNames, 'Spotify_Monthly_Listeners': Spotify_monthly_listeners,\n",
    "          'Song_Duration': Song_Durations} \n",
    "\n",
    "\n",
    "SpotifyDF = pd.DataFrame.from_dict(csvDict)\n",
    "\n",
    "SpotifyDF.head() \n",
    "\n",
    "SpotifyDF.to_csv('data/MySpotifyData.csv', encoding='utf-8') "
   ]
  },
  {
   "cell_type": "code",
   "execution_count": 24,
   "metadata": {},
   "outputs": [
    {
     "data": {
      "text/html": [
       "<div>\n",
       "<style scoped>\n",
       "    .dataframe tbody tr th:only-of-type {\n",
       "        vertical-align: middle;\n",
       "    }\n",
       "\n",
       "    .dataframe tbody tr th {\n",
       "        vertical-align: top;\n",
       "    }\n",
       "\n",
       "    .dataframe thead th {\n",
       "        text-align: right;\n",
       "    }\n",
       "</style>\n",
       "<table border=\"1\" class=\"dataframe\">\n",
       "  <thead>\n",
       "    <tr style=\"text-align: right;\">\n",
       "      <th></th>\n",
       "      <th>Unnamed: 0</th>\n",
       "      <th>Artist_Name</th>\n",
       "      <th>Song_Duration</th>\n",
       "      <th>Song_Names</th>\n",
       "      <th>Spotify_Monthly_Listeners</th>\n",
       "    </tr>\n",
       "  </thead>\n",
       "  <tbody>\n",
       "    <tr>\n",
       "      <th>0</th>\n",
       "      <td>0</td>\n",
       "      <td>Drake</td>\n",
       "      <td>4:17</td>\n",
       "      <td>Best_I_Ever_Had</td>\n",
       "      <td>56618250</td>\n",
       "    </tr>\n",
       "    <tr>\n",
       "      <th>1</th>\n",
       "      <td>1</td>\n",
       "      <td>Kendrick_Lamar</td>\n",
       "      <td>3:34</td>\n",
       "      <td>Good_Kid</td>\n",
       "      <td>25874450</td>\n",
       "    </tr>\n",
       "    <tr>\n",
       "      <th>2</th>\n",
       "      <td>2</td>\n",
       "      <td>Nujabes</td>\n",
       "      <td>2:55</td>\n",
       "      <td>Feather</td>\n",
       "      <td>357803</td>\n",
       "    </tr>\n",
       "    <tr>\n",
       "      <th>3</th>\n",
       "      <td>3</td>\n",
       "      <td>Blackbear</td>\n",
       "      <td>2:51</td>\n",
       "      <td>Something_Real</td>\n",
       "      <td>9495201</td>\n",
       "    </tr>\n",
       "    <tr>\n",
       "      <th>4</th>\n",
       "      <td>4</td>\n",
       "      <td>Drake</td>\n",
       "      <td>3:19</td>\n",
       "      <td>Gods_Plan</td>\n",
       "      <td>56618250</td>\n",
       "    </tr>\n",
       "  </tbody>\n",
       "</table>\n",
       "</div>"
      ],
      "text/plain": [
       "   Unnamed: 0     Artist_Name Song_Duration       Song_Names  \\\n",
       "0           0           Drake          4:17  Best_I_Ever_Had   \n",
       "1           1  Kendrick_Lamar          3:34         Good_Kid   \n",
       "2           2         Nujabes          2:55          Feather   \n",
       "3           3       Blackbear          2:51   Something_Real   \n",
       "4           4           Drake          3:19        Gods_Plan   \n",
       "\n",
       "   Spotify_Monthly_Listeners  \n",
       "0                   56618250  \n",
       "1                   25874450  \n",
       "2                     357803  \n",
       "3                    9495201  \n",
       "4                   56618250  "
      ]
     },
     "execution_count": 24,
     "metadata": {},
     "output_type": "execute_result"
    }
   ],
   "source": [
    "newSpotifyDF = pd.read_csv('data/MySpotifyData.csv')\n",
    "newSpotifyDF['Unnamed:0'] = '"
   ]
  },
  {
   "cell_type": "code",
   "execution_count": null,
   "metadata": {},
   "outputs": [],
   "source": []
  }
 ],
 "metadata": {
  "kernelspec": {
   "display_name": "Python 3",
   "language": "python",
   "name": "python3"
  },
  "language_info": {
   "codemirror_mode": {
    "name": "ipython",
    "version": 3
   },
   "file_extension": ".py",
   "mimetype": "text/x-python",
   "name": "python",
   "nbconvert_exporter": "python",
   "pygments_lexer": "ipython3",
   "version": "3.6.4"
  }
 },
 "nbformat": 4,
 "nbformat_minor": 2
}
