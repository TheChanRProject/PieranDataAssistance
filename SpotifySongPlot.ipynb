{
 "cells": [
  {
   "cell_type": "code",
   "execution_count": 3,
   "metadata": {},
   "outputs": [
    {
     "name": "stdout",
     "output_type": "stream",
     "text": [
      "21\n",
      "21\n",
      "21\n"
     ]
    }
   ],
   "source": [
    "import numpy as np\n",
    "import pandas as pd \n",
    "import matplotlib.pyplot as plt \n",
    "\n",
    "artistNames = ['Drake', 'Kendrick_Lamar', 'Nujabes', 'Blackbear', 'Drake', 'Kendrick_Lamar', 'Blackbear', \n",
    "              'Sinead_Harnett', 'Phora', 'Drake', 'Stam_Goody', 'Phora', 'Sinead_Harnett', 'Kendrick_Lamar',\n",
    "              'Nujabes', 'Phora', 'Blackbear', 'Manse', 'RINI', 'Sinead_Harnett', 'Alina_Baraz']\n",
    "\n",
    "print(len(artistNames))\n",
    "\n",
    "songNames = ['Best_I_Ever_Had', 'Good_Kid', 'Feather', 'Something_Real', 'Gods_Plan','Rigamortus', 'NYLA',\n",
    "            'Rather_Be_With_You', 'Boss_Up', 'Forever', 'Clutch', 'do_re_mi', 'Body', 'HUMBLE',\n",
    "            'Beat_Laments_The_World', 'To_The_Moon', 'Idfc', 'Freeze_Time', 'Emerald', 'No_Other_Way', 'Make_You_Feel']\n",
    "print(len(songNames)) \n",
    "\n",
    "Spotify_monthly_listeners = [56618250, 25874450, 357803, 9495201, 56618250, 25874450, 9495201, \n",
    "                            1285620, 1367953, 56618250, 19244, 1367953, 1285620, 25874450,\n",
    "                            357803, 1367953, 9495201, 207424, 115343, 1275620, 3371568]\n",
    "print(len(Spotify_monthly_listeners)) \n",
    "\n",
    "Song_Durations = ['4:17', '3:34', '2:55', '2:51', '3:19', '2:49', '5:00',\n",
    "                 '3:19', '3:01', '5:57', '2:42', '3:32', '3:49', '2:57',\n",
    "                 '4:23', '4:12', '4:05', '3:15', ]"
   ]
  },
  {
   "cell_type": "code",
   "execution_count": null,
   "metadata": {},
   "outputs": [],
   "source": []
  }
 ],
 "metadata": {
  "kernelspec": {
   "display_name": "Python 3",
   "language": "python",
   "name": "python3"
  },
  "language_info": {
   "codemirror_mode": {
    "name": "ipython",
    "version": 3
   },
   "file_extension": ".py",
   "mimetype": "text/x-python",
   "name": "python",
   "nbconvert_exporter": "python",
   "pygments_lexer": "ipython3",
   "version": "3.6.4"
  }
 },
 "nbformat": 4,
 "nbformat_minor": 2
}
