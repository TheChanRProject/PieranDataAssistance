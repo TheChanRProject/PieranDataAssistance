{
 "cells": [
  {
   "cell_type": "markdown",
   "metadata": {},
   "source": [
    "## Given an array of ints (length 3), figure out which is larger, the first or last element in the array, and set all the other elements to be that value. Return the changed the array. "
   ]
  },
  {
   "cell_type": "code",
   "execution_count": 14,
   "metadata": {},
   "outputs": [
    {
     "name": "stdout",
     "output_type": "stream",
     "text": [
      "[2, 2, 2]\n"
     ]
    }
   ],
   "source": [
    "def problem(x):\n",
    "    if x[0] > x[2] and len(x) == 3:\n",
    "        sol = len(x)*[x[0]] \n",
    "    elif x[2] > x[0] and len(x) == 3:\n",
    "        sol = len(x) * [x[2]]\n",
    "    else:\n",
    "        sol = \"The first and third elements are equal.\"\n",
    "    return sol\n",
    "\n"
   ]
  },
  {
   "cell_type": "code",
   "execution_count": 9,
   "metadata": {},
   "outputs": [
    {
     "name": "stdout",
     "output_type": "stream",
     "text": [
      "False\n",
      "True\n",
      "True\n"
     ]
    }
   ],
   "source": [
    "def spy_game(x):\n",
    "    for i in x:\n",
    "        if x[i] == 0 and x[i+1] == 0 and x[i+2] == 7:\n",
    "            sol = True \n",
    "        elif x[i] == 7 and x[i-1] == 0 and x[i-2] == 0:\n",
    "            sol = True\n",
    "        else:\n",
    "            sol = False\n",
    "        return sol \n",
    "        \n",
    "print(spy_game([1,2,3,4,5,6,8]))\n",
    "print(spy_game([0,0,7]))\n",
    "print(spy_game([1,0,0,7,2])) \n"
   ]
  },
  {
   "cell_type": "code",
   "execution_count": null,
   "metadata": {},
   "outputs": [],
   "source": []
  }
 ],
 "metadata": {
  "kernelspec": {
   "display_name": "Python 3",
   "language": "python",
   "name": "python3"
  },
  "language_info": {
   "codemirror_mode": {
    "name": "ipython",
    "version": 3
   },
   "file_extension": ".py",
   "mimetype": "text/x-python",
   "name": "python",
   "nbconvert_exporter": "python",
   "pygments_lexer": "ipython3",
   "version": "3.6.4"
  }
 },
 "nbformat": 4,
 "nbformat_minor": 2
}
