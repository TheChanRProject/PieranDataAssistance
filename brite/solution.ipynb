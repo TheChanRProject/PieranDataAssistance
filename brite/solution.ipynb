{
 "cells": [
  {
   "cell_type": "markdown",
   "metadata": {},
   "source": [
    "## Given an array of ints (length 3), figure out which is larger, the first or last element in the array, and set all the other elements to be that value. Return the changed the array. "
   ]
  },
  {
   "cell_type": "code",
   "execution_count": 14,
   "metadata": {},
   "outputs": [
    {
     "name": "stdout",
     "output_type": "stream",
     "text": [
      "[2, 2, 2]\n"
     ]
    }
   ],
   "source": [
    "def problem(x):\n",
    "    if x[0] > x[2] and len(x) == 3:\n",
    "        sol = len(x)*[x[0]] \n",
    "    elif x[2] > x[0] and len(x) == 3:\n",
    "        sol = len(x) * [x[2]]\n",
    "    else:\n",
    "        sol = \"The first and third elements are equal.\"\n",
    "    return sol\n",
    "\n"
   ]
  },
  {
   "cell_type": "code",
   "execution_count": 20,
   "metadata": {},
   "outputs": [
    {
     "name": "stdout",
     "output_type": "stream",
     "text": [
      "False\n"
     ]
    }
   ],
   "source": [
    "def spy_game(*args):\n",
    "    for i in list(args):\n",
    "        if args[i] == 0 and args[i+1] == 0 and args[i+2] == 7:\n",
    "            sol = True \n",
    "        else:\n",
    "            sol = False\n",
    "        return sol \n",
    "        \n"
   ]
  },
  {
   "cell_type": "code",
   "execution_count": null,
   "metadata": {},
   "outputs": [],
   "source": []
  }
 ],
 "metadata": {
  "kernelspec": {
   "display_name": "Python 3",
   "language": "python",
   "name": "python3"
  },
  "language_info": {
   "codemirror_mode": {
    "name": "ipython",
    "version": 3
   },
   "file_extension": ".py",
   "mimetype": "text/x-python",
   "name": "python",
   "nbconvert_exporter": "python",
   "pygments_lexer": "ipython3",
   "version": "3.6.4"
  }
 },
 "nbformat": 4,
 "nbformat_minor": 2
}
