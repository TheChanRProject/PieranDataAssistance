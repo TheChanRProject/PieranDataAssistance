{
 "cells": [
  {
   "cell_type": "code",
   "execution_count": 3,
   "metadata": {
    "ExecuteTime": {
     "end_time": "2019-04-11T08:17:01.956636Z",
     "start_time": "2019-04-11T08:17:01.948376Z"
    }
   },
   "outputs": [
    {
     "name": "stdout",
     "output_type": "stream",
     "text": [
      "['frank', 'cathy', 'jack', 'tim', 'chris', 'cindy']\n",
      "frank is taken already\n",
      "cindy is taken already\n",
      "TIM is taken already\n",
      "bob is available!\n",
      "Gerry is available!\n"
     ]
    }
   ],
   "source": [
    "current_user = ['Frank', 'Cathy', 'Jack', 'tim', 'Chris', 'cindy']\n",
    "new_user = ['frank', 'cindy', 'TIM', 'bob', 'Gerry'] \n",
    "\n",
    "for j in range(len(current_user)):\n",
    "        current_user[j] = current_user[j].lower() \n",
    "\n",
    "for i in new_user:\n",
    "    if i.lower() in current_user:\n",
    "         print(f\"{i} is taken already\")\n",
    "    else:\n",
    "        print(f\"{i} is available!\") \n"
   ]
  },
  {
   "cell_type": "code",
   "execution_count": 4,
   "metadata": {
    "ExecuteTime": {
     "end_time": "2019-04-11T08:22:32.435356Z",
     "start_time": "2019-04-11T08:22:32.424827Z"
    }
   },
   "outputs": [
    {
     "name": "stdout",
     "output_type": "stream",
     "text": [
      "frank already taken!\n",
      "cindy already taken!\n",
      "TIM already taken!\n",
      "bob is available!\n",
      "Gerry is available!\n"
     ]
    }
   ],
   "source": [
    "current_users = ['Frank', 'Cathy', 'Jack', 'tim', 'Chris', 'cindy']\n",
    "new_user = ['frank', 'cindy', 'TIM', 'bob', 'Gerry']\n",
    "\n",
    "for i in range(len(current_users)):\n",
    "    current_users[i] = current_users[i].lower()\n",
    "\n",
    "for i in new_user:\n",
    "    if i.lower() in current_users:\n",
    "        print(f\"{i} already taken!\")\n",
    "    else:\n",
    "        print(f\"{i} is available!\")"
   ]
  },
  {
   "cell_type": "code",
   "execution_count": 5,
   "metadata": {
    "ExecuteTime": {
     "end_time": "2019-04-11T08:23:36.302293Z",
     "start_time": "2019-04-11T08:23:36.293901Z"
    }
   },
   "outputs": [
    {
     "name": "stdout",
     "output_type": "stream",
     "text": [
      "frank already taken!\n",
      "cindy already taken!\n",
      "TIM already taken!\n",
      "bob is available!\n",
      "Gerry is available!\n"
     ]
    }
   ],
   "source": [
    "current_users = ['Frank', 'Cathy', 'Jack', 'tim', 'Chris', 'cindy']\n",
    "cu_f = [i.lower() for i in current_users]\n",
    "new_user =  ['frank', 'cindy', 'TIM', 'bob', 'Gerry'] \n",
    "\n",
    "for i in new_user:\n",
    "    if i.lower() in cu_f:\n",
    "        print(f\"{i} already taken!\")\n",
    "    else:\n",
    "        print(f\"{i} is available!\")"
   ]
  },
  {
   "cell_type": "code",
   "execution_count": null,
   "metadata": {},
   "outputs": [],
   "source": []
  }
 ],
 "metadata": {
  "kernelspec": {
   "display_name": "Python 3",
   "language": "python",
   "name": "python3"
  },
  "language_info": {
   "codemirror_mode": {
    "name": "ipython",
    "version": 3
   },
   "file_extension": ".py",
   "mimetype": "text/x-python",
   "name": "python",
   "nbconvert_exporter": "python",
   "pygments_lexer": "ipython3",
   "version": "3.6.8"
  },
  "nbTranslate": {
   "displayLangs": [
    "*"
   ],
   "hotkey": "alt-t",
   "langInMainMenu": true,
   "sourceLang": "en",
   "targetLang": "fr",
   "useGoogleTranslate": true
  }
 },
 "nbformat": 4,
 "nbformat_minor": 2
}
