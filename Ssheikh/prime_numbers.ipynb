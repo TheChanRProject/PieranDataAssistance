{
 "cells": [
  {
   "cell_type": "markdown",
   "metadata": {},
   "source": [
    "## Code for Prime Numbers"
   ]
  },
  {
   "cell_type": "code",
   "execution_count": 8,
   "metadata": {},
   "outputs": [
    {
     "name": "stdout",
     "output_type": "stream",
     "text": [
      "[2, 3, 5, 7, 9, 11, 13, 15, 17, 19]\n"
     ]
    }
   ],
   "source": [
    "def count_primes(num):\n",
    "    primes = [2]\n",
    "    x = 3 \n",
    "    if num < 2:\n",
    "        return 0 \n",
    "    while x <= num:\n",
    "        primes.append(x)\n",
    "        x += 2\n",
    "    print(primes)\n",
    "    return len(primes)\n",
    "\n",
    "count_primes(20);\n",
    "    "
   ]
  },
  {
   "cell_type": "code",
   "execution_count": 6,
   "metadata": {},
   "outputs": [],
   "source": [
    "for i in range(3,3):\n",
    "    print(i)\n",
    "    "
   ]
  },
  {
   "cell_type": "code",
   "execution_count": null,
   "metadata": {},
   "outputs": [],
   "source": [
    "def count_primes(num):\n",
    "    primes = [2]\n",
    "    x = 3 \n",
    "    if num < 2:\n",
    "        return 0 \n",
    "    while x <= num:\n",
    "            primes.append(x)\n",
    "            if x % 3 == 1:\n",
    "                x += 2\n",
    "    print(primes)\n",
    "    return len(primes)\n",
    "\n",
    "count_primes(20);"
   ]
  },
  {
   "cell_type": "code",
   "execution_count": null,
   "metadata": {},
   "outputs": [],
   "source": []
  }
 ],
 "metadata": {
  "kernelspec": {
   "display_name": "Python 3",
   "language": "python",
   "name": "python3"
  },
  "language_info": {
   "codemirror_mode": {
    "name": "ipython",
    "version": 3
   },
   "file_extension": ".py",
   "mimetype": "text/x-python",
   "name": "python",
   "nbconvert_exporter": "python",
   "pygments_lexer": "ipython3",
   "version": "3.6.4"
  }
 },
 "nbformat": 4,
 "nbformat_minor": 2
}
